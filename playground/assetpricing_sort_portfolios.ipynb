{
 "cells": [
  {
   "cell_type": "code",
   "execution_count": 1,
   "metadata": {},
   "outputs": [],
   "source": [
    "\"\"\"\n",
    "Script to render the asset pricing table\n",
    "\"\"\"\n",
    "\n",
    "import pandas as pd\n",
    "import numpy as np\n",
    "import statsmodels.formula.api as smf\n",
    "from scipy.stats import ttest_1samp\n",
    "from regtabletotext import prettify_result\n",
    "import warnings\n",
    "warnings.filterwarnings(\"ignore\")\n",
    "\n",
    "from environ.constants import (\n",
    "    DEPENDENT_VARIABLES,\n",
    "    PROCESSED_DATA_PATH,\n",
    "    STABLE_DICT,\n",
    "    TABLE_PATH,\n",
    ")\n",
    "from environ.process.asset_pricing.assetpricing_functions import reg_fama_macbeth, clean_weekly_panel, univariate_sort, double_sort \n"
   ]
  },
  {
   "cell_type": "code",
   "execution_count": 2,
   "metadata": {},
   "outputs": [],
   "source": [
    "# load factors\n",
    "ff3 = pd.read_csv(PROCESSED_DATA_PATH/\"FF3.csv\") \n",
    "ltw3 = pd.read_csv(PROCESSED_DATA_PATH/\"LTW3.csv\")\n",
    "\n",
    "# load the regression panel dataset\n",
    "reg_panel = pd.read_pickle(\n",
    "    PROCESSED_DATA_PATH / \"panel_main.pickle.zip\", compression=\"zip\"\n",
    ")\n",
    "\n",
    "# stable non-stable info dict\n",
    "stable_nonstable_info = {\n",
    "    \"stablecoin\": reg_panel[reg_panel[\"Token\"].isin(STABLE_DICT.keys())],\n",
    "    \"non-stablecoin\": reg_panel[~reg_panel[\"Token\"].isin(STABLE_DICT.keys())],\n",
    "    \"all\": reg_panel,\n",
    "}\n",
    "\n",
    "# How are returns aggregated for each portfolio\n",
    "ret_agg = 'mean'\n",
    "\n",
    "DEPENDENT_VARIABLES_bis = ['volume_ultimate_share']\n",
    "# ,'eigen_centrality_undirected','total_eigen_centrality_undirected','Volume_share']"
   ]
  },
  {
   "cell_type": "markdown",
   "metadata": {},
   "source": [
    "### Univariate sorting"
   ]
  },
  {
   "cell_type": "code",
   "execution_count": 3,
   "metadata": {},
   "outputs": [
    {
     "data": {
      "text/html": [
       "<style type=\"text/css\">\n",
       "</style>\n",
       "<table id=\"T_8baa2\">\n",
       "  <caption>volume_ultimate_share alltime</caption>\n",
       "  <thead>\n",
       "    <tr>\n",
       "      <th class=\"blank level0\" >&nbsp;</th>\n",
       "      <th id=\"T_8baa2_level0_col0\" class=\"col_heading level0 col0\" >P1</th>\n",
       "      <th id=\"T_8baa2_level0_col1\" class=\"col_heading level0 col1\" >P2</th>\n",
       "      <th id=\"T_8baa2_level0_col2\" class=\"col_heading level0 col2\" >P3</th>\n",
       "      <th id=\"T_8baa2_level0_col3\" class=\"col_heading level0 col3\" >P4</th>\n",
       "      <th id=\"T_8baa2_level0_col4\" class=\"col_heading level0 col4\" >P5</th>\n",
       "      <th id=\"T_8baa2_level0_col5\" class=\"col_heading level0 col5\" >P5-P1</th>\n",
       "    </tr>\n",
       "  </thead>\n",
       "  <tbody>\n",
       "    <tr>\n",
       "      <th id=\"T_8baa2_level0_row0\" class=\"row_heading level0 row0\" >Mean</th>\n",
       "      <td id=\"T_8baa2_row0_col0\" class=\"data row0 col0\" >-0.024906</td>\n",
       "      <td id=\"T_8baa2_row0_col1\" class=\"data row0 col1\" >0.005745</td>\n",
       "      <td id=\"T_8baa2_row0_col2\" class=\"data row0 col2\" >0.030016</td>\n",
       "      <td id=\"T_8baa2_row0_col3\" class=\"data row0 col3\" >0.058223</td>\n",
       "      <td id=\"T_8baa2_row0_col4\" class=\"data row0 col4\" >0.070008</td>\n",
       "      <td id=\"T_8baa2_row0_col5\" class=\"data row0 col5\" >0.088555</td>\n",
       "    </tr>\n",
       "    <tr>\n",
       "      <th id=\"T_8baa2_level0_row1\" class=\"row_heading level0 row1\" >t-Stat</th>\n",
       "      <td id=\"T_8baa2_row1_col0\" class=\"data row1 col0\" >-3.256858</td>\n",
       "      <td id=\"T_8baa2_row1_col1\" class=\"data row1 col1\" >0.744190</td>\n",
       "      <td id=\"T_8baa2_row1_col2\" class=\"data row1 col2\" >3.451940</td>\n",
       "      <td id=\"T_8baa2_row1_col3\" class=\"data row1 col3\" >5.654734</td>\n",
       "      <td id=\"T_8baa2_row1_col4\" class=\"data row1 col4\" >6.912133</td>\n",
       "      <td id=\"T_8baa2_row1_col5\" class=\"data row1 col5\" >5.622825</td>\n",
       "    </tr>\n",
       "    <tr>\n",
       "      <th id=\"T_8baa2_level0_row2\" class=\"row_heading level0 row2\" >StdDev</th>\n",
       "      <td id=\"T_8baa2_row2_col0\" class=\"data row2 col0\" >0.245548</td>\n",
       "      <td id=\"T_8baa2_row2_col1\" class=\"data row2 col1\" >0.237051</td>\n",
       "      <td id=\"T_8baa2_row2_col2\" class=\"data row2 col2\" >0.268296</td>\n",
       "      <td id=\"T_8baa2_row2_col3\" class=\"data row2 col3\" >0.316184</td>\n",
       "      <td id=\"T_8baa2_row2_col4\" class=\"data row2 col4\" >0.319964</td>\n",
       "      <td id=\"T_8baa2_row2_col5\" class=\"data row2 col5\" >0.182989</td>\n",
       "    </tr>\n",
       "    <tr>\n",
       "      <th id=\"T_8baa2_level0_row3\" class=\"row_heading level0 row3\" >Sharpe</th>\n",
       "      <td id=\"T_8baa2_row3_col0\" class=\"data row3 col0\" >-0.732431</td>\n",
       "      <td id=\"T_8baa2_row3_col1\" class=\"data row3 col1\" >0.174995</td>\n",
       "      <td id=\"T_8baa2_row3_col2\" class=\"data row3 col2\" >0.807871</td>\n",
       "      <td id=\"T_8baa2_row3_col3\" class=\"data row3 col3\" >1.329700</td>\n",
       "      <td id=\"T_8baa2_row3_col4\" class=\"data row3 col4\" >1.579953</td>\n",
       "      <td id=\"T_8baa2_row3_col5\" class=\"data row3 col5\" >3.494501</td>\n",
       "    </tr>\n",
       "  </tbody>\n",
       "</table>\n"
      ],
      "text/plain": [
       "<pandas.io.formats.style.Styler at 0x22ab1c4b0e0>"
      ]
     },
     "metadata": {},
     "output_type": "display_data"
    }
   ],
   "source": [
    "for dom_variable in DEPENDENT_VARIABLES_bis:\n",
    "    for is_boom in [-1]:\n",
    "        n_quantiles = 5\n",
    "        df_panel = clean_weekly_panel(reg_panel, dom_variable, is_stablecoin = 0, is_boom = is_boom)\n",
    "        df_panel = pd.merge(df_panel,ff3, on='WeekYear')\n",
    "        summary_table = univariate_sort(df_panel,dom_variable, n_quantiles, ret_agg = ret_agg)\n",
    "\n",
    "        # Compute the difference: H minus L\n",
    "        pivot = df_panel.pivot_table(index='WeekYear', columns='portfolio', values='ret')\n",
    "        diff_returns = pivot[f'P{n_quantiles}'] - pivot['P1']\n",
    "        mean_diff = diff_returns.mean() if ret_agg == 'mean' else diff_returns.median()\n",
    "        std_diff = diff_returns.std(ddof=1)\n",
    "        t_stat_diff, p_value_diff = ttest_1samp(diff_returns, popmean=0)\n",
    "\n",
    "        summary_table[f'P{n_quantiles}-P1'] = {\n",
    "            'Mean': mean_diff,\n",
    "            't-Stat': t_stat_diff,\n",
    "            # 'p-value': p_value_diff,\n",
    "            'StdDev': std_diff,\n",
    "            'Sharpe':  np.sqrt(365/7) * mean_diff / std_diff\n",
    "        }\n",
    "        if is_boom == 1:\n",
    "            boom_str = \" boom\"\n",
    "        elif is_boom == 0:\n",
    "            boom_str = \" bust\"\n",
    "        else:\n",
    "            boom_str = \" alltime\"\n",
    "        summary_table = summary_table.style.set_caption(dom_variable + boom_str)\n",
    "        display(summary_table)"
   ]
  },
  {
   "cell_type": "code",
   "execution_count": 4,
   "metadata": {},
   "outputs": [
    {
     "name": "stdout",
     "output_type": "stream",
     "text": [
      "102\n"
     ]
    },
    {
     "data": {
      "text/plain": [
       "Token\n",
       "YFL      17\n",
       "BTT      18\n",
       "EUROC    18\n",
       "DERC     18\n",
       "LEND     18\n",
       "Name: count, dtype: int64"
      ]
     },
     "execution_count": 4,
     "metadata": {},
     "output_type": "execute_result"
    }
   ],
   "source": [
    "test = clean_weekly_panel(reg_panel, 'volume_ultimate_share', is_stablecoin = 0, is_boom = -1)\n",
    "print(test.Token.nunique())\n",
    "test.Token.value_counts(ascending=True).head(5)"
   ]
  },
  {
   "cell_type": "markdown",
   "metadata": {},
   "source": [
    "### Asset pricing factor tests"
   ]
  },
  {
   "cell_type": "code",
   "execution_count": 5,
   "metadata": {},
   "outputs": [
    {
     "data": {
      "text/html": [
       "<style type=\"text/css\">\n",
       "</style>\n",
       "<table id=\"T_acfbb\">\n",
       "  <caption>volume_ultimate_sharealltime</caption>\n",
       "  <thead>\n",
       "    <tr>\n",
       "      <th class=\"index_name level0\" >primary_portfolio</th>\n",
       "      <th id=\"T_acfbb_level0_col0\" class=\"col_heading level0 col0\" >P1</th>\n",
       "      <th id=\"T_acfbb_level0_col1\" class=\"col_heading level0 col1\" >P2</th>\n",
       "      <th id=\"T_acfbb_level0_col2\" class=\"col_heading level0 col2\" >P3</th>\n",
       "    </tr>\n",
       "    <tr>\n",
       "      <th class=\"index_name level0\" >secondary_portfolio</th>\n",
       "      <th class=\"blank col0\" >&nbsp;</th>\n",
       "      <th class=\"blank col1\" >&nbsp;</th>\n",
       "      <th class=\"blank col2\" >&nbsp;</th>\n",
       "    </tr>\n",
       "  </thead>\n",
       "  <tbody>\n",
       "    <tr>\n",
       "      <th id=\"T_acfbb_level0_row0\" class=\"row_heading level0 row0\" >Q1</th>\n",
       "      <td id=\"T_acfbb_row0_col0\" class=\"data row0 col0\" >-0.024116</td>\n",
       "      <td id=\"T_acfbb_row0_col1\" class=\"data row0 col1\" >0.057274</td>\n",
       "      <td id=\"T_acfbb_row0_col2\" class=\"data row0 col2\" >0.115512</td>\n",
       "    </tr>\n",
       "    <tr>\n",
       "      <th id=\"T_acfbb_level0_row1\" class=\"row_heading level0 row1\" >Q2</th>\n",
       "      <td id=\"T_acfbb_row1_col0\" class=\"data row1 col0\" >-0.015028</td>\n",
       "      <td id=\"T_acfbb_row1_col1\" class=\"data row1 col1\" >0.019835</td>\n",
       "      <td id=\"T_acfbb_row1_col2\" class=\"data row1 col2\" >0.070956</td>\n",
       "    </tr>\n",
       "    <tr>\n",
       "      <th id=\"T_acfbb_level0_row2\" class=\"row_heading level0 row2\" >Q3</th>\n",
       "      <td id=\"T_acfbb_row2_col0\" class=\"data row2 col0\" >-0.008690</td>\n",
       "      <td id=\"T_acfbb_row2_col1\" class=\"data row2 col1\" >0.006596</td>\n",
       "      <td id=\"T_acfbb_row2_col2\" class=\"data row2 col2\" >0.025257</td>\n",
       "    </tr>\n",
       "  </tbody>\n",
       "</table>\n"
      ],
      "text/plain": [
       "<pandas.io.formats.style.Styler at 0x22ab1c4b0e0>"
      ]
     },
     "metadata": {},
     "output_type": "display_data"
    }
   ],
   "source": [
    "\n",
    "for dom_variable in DEPENDENT_VARIABLES_bis:\n",
    "    for is_boom in [-1]:\n",
    "        n_quantiles = 3\n",
    "        df_panel = clean_weekly_panel(reg_panel, dom_variable, is_stablecoin = 0, is_boom = is_boom)\n",
    "        df_panel = pd.merge(df_panel,ff3, on='WeekYear')\n",
    "        summary_table = double_sort(df_panel,dom_variable, secondary_variable='mcap', n_quantiles=n_quantiles, ret_agg=ret_agg)\n",
    "        \n",
    "        if is_boom == 1:\n",
    "            boom_str = \" boom\"\n",
    "        elif is_boom == 0:\n",
    "            boom_str = \" bust\"\n",
    "        else:\n",
    "            boom_str = \"alltime\"\n",
    "        summary_table = summary_table.style.set_caption(dom_variable + boom_str)\n",
    "        display(summary_table)"
   ]
  },
  {
   "cell_type": "code",
   "execution_count": 6,
   "metadata": {},
   "outputs": [
    {
     "name": "stdout",
     "output_type": "stream",
     "text": [
      "OLS Model:\n",
      "CDOM ~ CMKT\n",
      "\n",
      "Coefficients:\n",
      "           Estimate  Std. Error  t-Statistic  p-Value\n",
      "Intercept     0.085       0.002       43.192    0.000\n",
      "CMKT          0.063       0.022        2.926    0.003\n",
      "\n",
      "Summary statistics:\n",
      "- Number of observations: 4,867\n",
      "- R-squared: 0.002, Adjusted R-squared: 0.002\n",
      "- F-statistic: 8.559 on 1 and 4865 DF, p-value: 0.003\n",
      "\n",
      "OLS Model:\n",
      "CDOM ~ CMKT + CMOM + CSIZE\n",
      "\n",
      "Coefficients:\n",
      "           Estimate  Std. Error  t-Statistic  p-Value\n",
      "Intercept     0.082       0.002       40.081    0.000\n",
      "CMKT          0.068       0.022        3.132    0.002\n",
      "CMOM          0.087       0.030        2.918    0.004\n",
      "CSIZE         0.092       0.032        2.851    0.004\n",
      "\n",
      "Summary statistics:\n",
      "- Number of observations: 4,867\n",
      "- R-squared: 0.005, Adjusted R-squared: 0.005\n",
      "- F-statistic: 8.444 on 3 and 4863 DF, p-value: 0.000\n",
      "\n"
     ]
    }
   ],
   "source": [
    "import statsmodels.api as sm\n",
    "for dom_variable in DEPENDENT_VARIABLES_bis:\n",
    "    for is_boom in [-1]:\n",
    "        n_quantiles = 3\n",
    "        df_panel = clean_weekly_panel(reg_panel, dom_variable, is_stablecoin = 0, is_boom = is_boom)\n",
    "        summary_table = univariate_sort(df_panel,dom_variable, n_quantiles)\n",
    "\n",
    "        # Compute the difference: H minus L\n",
    "        pivot = df_panel.pivot_table(index='WeekYear', columns='portfolio', values='ret')\n",
    "        pivot[\"CDOM\"] = pivot[f\"P{n_quantiles}\"] - pivot['P1']\n",
    "        dominance_factor = pivot[[\"CDOM\"]].reset_index()\n",
    "        assets_panel = clean_weekly_panel(reg_panel, dom_variable, is_stablecoin = 0, is_boom = -1)\n",
    "        # merge all factors\n",
    "        factors_data = pd.merge(dominance_factor, ff3, on=[\"WeekYear\"], how=\"left\")\n",
    "        factors_data = pd.merge(factors_data, ltw3, on=[\"WeekYear\"], how=\"left\")\n",
    "        # merge factors with returns\n",
    "        factors_data = pd.merge(factors_data, assets_panel, on=[\"WeekYear\"], how=\"left\")\n",
    "        factors_data = factors_data.dropna()\n",
    "        # AP_test_ff3 = smf.ols(formula= 'CDOM ~ MKT + SMB + HML', data=factors_data).fit()\n",
    "        # prettify_result(AP_test_ff3)\n",
    "        AP_test_cmkt = smf.ols(formula= 'CDOM ~ CMKT', data=factors_data).fit()\n",
    "        prettify_result(AP_test_cmkt)\n",
    "        AP_test_ltw3 = smf.ols(formula= 'CDOM ~ CMKT + CMOM + CSIZE', data=factors_data).fit()\n",
    "        prettify_result(AP_test_ltw3)"
   ]
  },
  {
   "cell_type": "markdown",
   "metadata": {},
   "source": [
    "### FAMA MCBETH "
   ]
  },
  {
   "cell_type": "code",
   "execution_count": 7,
   "metadata": {},
   "outputs": [
    {
     "data": {
      "text/html": [
       "<style type=\"text/css\">\n",
       "</style>\n",
       "<table id=\"T_9734d\">\n",
       "  <caption>volume_ultimate_share alltime</caption>\n",
       "  <thead>\n",
       "    <tr>\n",
       "      <th class=\"blank level0\" >&nbsp;</th>\n",
       "      <th id=\"T_9734d_level0_col0\" class=\"col_heading level0 col0\" >factor</th>\n",
       "      <th id=\"T_9734d_level0_col1\" class=\"col_heading level0 col1\" >risk_premium</th>\n",
       "      <th id=\"T_9734d_level0_col2\" class=\"col_heading level0 col2\" >t_stat</th>\n",
       "      <th id=\"T_9734d_level0_col3\" class=\"col_heading level0 col3\" >t_stat_NW</th>\n",
       "    </tr>\n",
       "  </thead>\n",
       "  <tbody>\n",
       "    <tr>\n",
       "      <th id=\"T_9734d_level0_row0\" class=\"row_heading level0 row0\" >0</th>\n",
       "      <td id=\"T_9734d_row0_col0\" class=\"data row0 col0\" >CDOM</td>\n",
       "      <td id=\"T_9734d_row0_col1\" class=\"data row0 col1\" >0.876000</td>\n",
       "      <td id=\"T_9734d_row0_col2\" class=\"data row0 col2\" >2.863000</td>\n",
       "      <td id=\"T_9734d_row0_col3\" class=\"data row0 col3\" >2.448000</td>\n",
       "    </tr>\n",
       "    <tr>\n",
       "      <th id=\"T_9734d_level0_row1\" class=\"row_heading level0 row1\" >1</th>\n",
       "      <td id=\"T_9734d_row1_col0\" class=\"data row1 col0\" >CMKT</td>\n",
       "      <td id=\"T_9734d_row1_col1\" class=\"data row1 col1\" >0.905000</td>\n",
       "      <td id=\"T_9734d_row1_col2\" class=\"data row1 col2\" >5.600000</td>\n",
       "      <td id=\"T_9734d_row1_col3\" class=\"data row1 col3\" >5.808000</td>\n",
       "    </tr>\n",
       "    <tr>\n",
       "      <th id=\"T_9734d_level0_row2\" class=\"row_heading level0 row2\" >2</th>\n",
       "      <td id=\"T_9734d_row2_col0\" class=\"data row2 col0\" >CMOM</td>\n",
       "      <td id=\"T_9734d_row2_col1\" class=\"data row2 col1\" >0.044000</td>\n",
       "      <td id=\"T_9734d_row2_col2\" class=\"data row2 col2\" >0.472000</td>\n",
       "      <td id=\"T_9734d_row2_col3\" class=\"data row2 col3\" >0.436000</td>\n",
       "    </tr>\n",
       "    <tr>\n",
       "      <th id=\"T_9734d_level0_row3\" class=\"row_heading level0 row3\" >3</th>\n",
       "      <td id=\"T_9734d_row3_col0\" class=\"data row3 col0\" >CSIZE</td>\n",
       "      <td id=\"T_9734d_row3_col1\" class=\"data row3 col1\" >0.287000</td>\n",
       "      <td id=\"T_9734d_row3_col2\" class=\"data row3 col2\" >3.252000</td>\n",
       "      <td id=\"T_9734d_row3_col3\" class=\"data row3 col3\" >3.018000</td>\n",
       "    </tr>\n",
       "    <tr>\n",
       "      <th id=\"T_9734d_level0_row4\" class=\"row_heading level0 row4\" >4</th>\n",
       "      <td id=\"T_9734d_row4_col0\" class=\"data row4 col0\" >Intercept</td>\n",
       "      <td id=\"T_9734d_row4_col1\" class=\"data row4 col1\" >3.348000</td>\n",
       "      <td id=\"T_9734d_row4_col2\" class=\"data row4 col2\" >2.583000</td>\n",
       "      <td id=\"T_9734d_row4_col3\" class=\"data row4 col3\" >2.200000</td>\n",
       "    </tr>\n",
       "  </tbody>\n",
       "</table>\n"
      ],
      "text/plain": [
       "<pandas.io.formats.style.Styler at 0x22ac33dcfe0>"
      ]
     },
     "metadata": {},
     "output_type": "display_data"
    }
   ],
   "source": [
    "for dom_variable in DEPENDENT_VARIABLES_bis:\n",
    "    for is_boom in [-1]:\n",
    "        n_quantiles = 3\n",
    "        df_panel = clean_weekly_panel(reg_panel, dom_variable, is_stablecoin = 0, is_boom = is_boom)\n",
    "        summary_table = univariate_sort(df_panel,dom_variable, n_quantiles)\n",
    "\n",
    "        # Compute the difference: H minus L\n",
    "        pivot = df_panel.pivot_table(index='WeekYear', columns='portfolio', values='ret')\n",
    "        pivot[\"CDOM\"] = pivot[f\"P{n_quantiles}\"] - pivot['P1']\n",
    "        dominance_factor = pivot[[\"CDOM\"]].reset_index()\n",
    "        assets_panel = clean_weekly_panel(reg_panel, dom_variable, is_stablecoin = 0, is_boom = -1)\n",
    "        # merge all factors\n",
    "        data_fama_macbeth = pd.merge(dominance_factor, ff3, on=[\"WeekYear\"], how=\"left\")\n",
    "        data_fama_macbeth = pd.merge(data_fama_macbeth, ltw3, on=[\"WeekYear\"], how=\"left\")\n",
    "        # merge factors with returns\n",
    "        data_fama_macbeth = pd.merge(data_fama_macbeth, assets_panel, on=[\"WeekYear\"], how=\"left\")\n",
    "        data_fama_macbeth = data_fama_macbeth.dropna()\n",
    "\n",
    "        # run the Fama-Macbeth regression\n",
    "        data_fama_macbeth['excess_ret'] = data_fama_macbeth['ret'] - data_fama_macbeth['RF']\n",
    "        fama_macbeth = reg_fama_macbeth(data_fama_macbeth, formula=\"excess_ret ~ CMKT + CMOM + CSIZE + CDOM\")\n",
    "        if is_boom == 1:\n",
    "            boom_str = \" boom\"\n",
    "        elif is_boom == 0:\n",
    "            boom_str = \" bust\"\n",
    "        else:\n",
    "            boom_str = \" alltime\"\n",
    "        fama_macbeth = fama_macbeth.style.set_caption(dom_variable + boom_str)\n",
    "        display(fama_macbeth)"
   ]
  }
 ],
 "metadata": {
  "kernelspec": {
   "display_name": "venv",
   "language": "python",
   "name": "python3"
  },
  "language_info": {
   "codemirror_mode": {
    "name": "ipython",
    "version": 3
   },
   "file_extension": ".py",
   "mimetype": "text/x-python",
   "name": "python",
   "nbconvert_exporter": "python",
   "pygments_lexer": "ipython3",
   "version": "3.12.6"
  }
 },
 "nbformat": 4,
 "nbformat_minor": 2
}
