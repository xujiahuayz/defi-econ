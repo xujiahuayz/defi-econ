{
 "cells": [
  {
   "cell_type": "code",
   "execution_count": 1,
   "metadata": {},
   "outputs": [],
   "source": [
    "import numpy as np\n",
    "import pandas as pd\n",
    "from tqdm import tqdm\n",
    "\n",
    "from environ.constants import DEPENDENT_VARIABLES, PANEL_VAR_INFO, PROCESSED_DATA_PATH\n",
    "from environ.utils.variable_constructer import (\n",
    "    name_log_return_variable,\n",
    "    name_log_return_vol_variable,\n",
    "    return_vol,\n",
    "    share_variable_columns,\n",
    ")\n",
    "\n",
    "reg_panel = pd.read_pickle(PROCESSED_DATA_PATH / \"panel_main.pickle.zip\", compression=\"zip\")"
   ]
  },
  {
   "cell_type": "code",
   "execution_count": 3,
   "metadata": {},
   "outputs": [
    {
     "data": {
      "text/plain": [
       "Index(['Token', 'Volume', 'Date', 'Inflow_centrality', 'Outflow_centrality',\n",
       "       'TVL', 'volume_in', 'volume_out', 'borrow_rate', 'Supply_share',\n",
       "       'Borrow_share', 'supply_rates', 'betweenness_centrality_volume',\n",
       "       'betweenness_centrality_count', 'vol_in_full_len', 'vol_out_full_len',\n",
       "       'vol_inter_full_len', 'eigen_centrality_undirected',\n",
       "       'total_eigen_centrality_undirected', 'volume_ultimate',\n",
       "       'dollar_exchange_rate', 'stableshare', 'mcap', 'S&P', 'timestamp',\n",
       "       'gas_price_wei', 'ether_price_usd', 'gas_price_usd', 'S&P_log_return_1',\n",
       "       'S&P_log_return_vol_1_30', 'ether_price_usd_log_return_1',\n",
       "       'ether_price_usd_log_return_vol_1_30', 'gas_price_usd_log_return_1',\n",
       "       'gas_price_usd_log_return_vol_1_30', 'Volume_share', 'TVL_share',\n",
       "       'volume_in_share', 'volume_out_share', 'vol_in_full_len_share',\n",
       "       'vol_out_full_len_share', 'vol_inter_full_len_share',\n",
       "       'volume_ultimate_share', 'mcap_share',\n",
       "       'dollar_exchange_rate_log_return_1',\n",
       "       'dollar_exchange_rate_log_return_vol_1_30', 'corr_gas', 'corr_eth',\n",
       "       'corr_sp', 'is_boom'],\n",
       "      dtype='object')"
      ]
     },
     "execution_count": 3,
     "metadata": {},
     "output_type": "execute_result"
    }
   ],
   "source": [
    "reg_panel.columns"
   ]
  },
  {
   "cell_type": "code",
   "execution_count": null,
   "metadata": {},
   "outputs": [],
   "source": []
  },
  {
   "cell_type": "code",
   "execution_count": null,
   "metadata": {},
   "outputs": [],
   "source": []
  },
  {
   "cell_type": "code",
   "execution_count": null,
   "metadata": {},
   "outputs": [],
   "source": []
  }
 ],
 "metadata": {
  "kernelspec": {
   "display_name": "venv",
   "language": "python",
   "name": "python3"
  },
  "language_info": {
   "codemirror_mode": {
    "name": "ipython",
    "version": 3
   },
   "file_extension": ".py",
   "mimetype": "text/x-python",
   "name": "python",
   "nbconvert_exporter": "python",
   "pygments_lexer": "ipython3",
   "version": "3.12.6"
  }
 },
 "nbformat": 4,
 "nbformat_minor": 2
}
