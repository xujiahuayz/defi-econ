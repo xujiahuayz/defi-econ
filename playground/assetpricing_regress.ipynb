{
 "cells": [
  {
   "cell_type": "code",
   "execution_count": 2,
   "metadata": {},
   "outputs": [],
   "source": [
    "\"\"\"\n",
    "Script to render the asset pricing table\n",
    "\"\"\"\n",
    "\n",
    "import pandas as pd\n",
    "import numpy as np\n",
    "import statsmodels.formula.api as sm\n",
    "\n",
    "import warnings\n",
    "warnings.filterwarnings(\"ignore\")\n",
    "\n",
    "from environ.constants import (\n",
    "    DEPENDENT_VARIABLES,\n",
    "    PROCESSED_DATA_PATH,\n",
    "    STABLE_DICT,\n",
    "    TABLE_PATH,\n",
    ")\n",
    "from environ.process.asset_pricing.double_sorting import calculate_period_return\n",
    "from environ.process.asset_pricing.fama_macbeth import build_dominance_factor, calculate_weekly_returns\n",
    "\n",
    "def reg_fama_macbeth(data_fama_macbeth, formula:str = \"dollar_ret ~ DOM\"\n",
    ") -> pd.DataFrame:\n",
    "  risk_premia = (data_fama_macbeth\n",
    "    .groupby([\"Year\", \"Week\"])\n",
    "    .apply(lambda x: sm.ols(\n",
    "        formula= formula, \n",
    "        data=x\n",
    "      ).fit()\n",
    "      .params\n",
    "    )\n",
    "    .reset_index()\n",
    "  )\n",
    "\n",
    "  price_of_risk = (risk_premia\n",
    "    .melt(id_vars=[\"Year\", \"Week\"], var_name=\"factor\", value_name=\"estimate\")\n",
    "    .groupby(\"factor\")[\"estimate\"]\n",
    "    .apply(lambda x: pd.Series({\n",
    "        \"risk_premium\": x.mean(),\n",
    "        \"t_stat\": x.mean()/x.std()*np.sqrt(len(x))\n",
    "      })\n",
    "    )\n",
    "    .reset_index()\n",
    "    .pivot(index=\"factor\", columns=\"level_1\", values=\"estimate\")\n",
    "    .reset_index()\n",
    "  )\n",
    "\n",
    "  price_of_risk_NW = (risk_premia\n",
    "    .melt(id_vars=[\"Year\", \"Week\"], var_name=\"factor\", value_name=\"estimate\")\n",
    "    .groupby(\"factor\")\n",
    "    .apply(lambda x: (\n",
    "        x[\"estimate\"].mean()/ \n",
    "          sm.ols(\"estimate ~ 1\", x)\n",
    "          .fit(cov_type=\"HAC\", cov_kwds={\"maxlags\": 4}).bse\n",
    "      )\n",
    "    )\n",
    "    .reset_index()\n",
    "    .rename(columns={\"Intercept\": \"t_stat_NW\"})\n",
    "  )\n",
    "  # express risk premium in percentage\n",
    "  price_of_risk['risk_premium'] = price_of_risk['risk_premium'] * 100\n",
    "  return price_of_risk.merge(price_of_risk_NW, on=\"factor\").round(3)"
   ]
  },
  {
   "cell_type": "code",
   "execution_count": 30,
   "metadata": {},
   "outputs": [],
   "source": [
    "# reg_panel = pd.read_pickle(\n",
    "#     PROCESSED_DATA_PATH / \"panel_main.pickle.zip\", compression=\"zip\"\n",
    "# )\n",
    "# reg_panel.columns"
   ]
  },
  {
   "cell_type": "code",
   "execution_count": 7,
   "metadata": {},
   "outputs": [
    {
     "name": "stdout",
     "output_type": "stream",
     "text": [
      "Fama McBeth stablecoin True volume_ultimate_share\n"
     ]
    },
    {
     "data": {
      "application/vnd.microsoft.datawrangler.viewer.v0+json": {
       "columns": [
        {
         "name": "index",
         "rawType": "int64",
         "type": "integer"
        },
        {
         "name": "factor",
         "rawType": "object",
         "type": "string"
        },
        {
         "name": "risk_premium",
         "rawType": "float64",
         "type": "float"
        },
        {
         "name": "t_stat",
         "rawType": "float64",
         "type": "float"
        },
        {
         "name": "t_stat_NW",
         "rawType": "float64",
         "type": "float"
        }
       ],
       "conversionMethod": "pd.DataFrame",
       "ref": "2459c861-67a8-45cd-a8ff-2e18bccf96c3",
       "rows": [
        [
         "0",
         "CMKT",
         "-0.291",
         "-0.827",
         "-0.864"
        ],
        [
         "1",
         "CMOM",
         "0.857",
         "0.985",
         "1.01"
        ],
        [
         "2",
         "CSIZE",
         "-0.388",
         "-1.038",
         "-1.057"
        ],
        [
         "3",
         "DOM",
         "-0.016",
         "-1.284",
         "-1.319"
        ],
        [
         "4",
         "Intercept",
         "10.599",
         "0.938",
         "0.963"
        ]
       ],
       "shape": {
        "columns": 4,
        "rows": 5
       }
      },
      "text/html": [
       "<div>\n",
       "<style scoped>\n",
       "    .dataframe tbody tr th:only-of-type {\n",
       "        vertical-align: middle;\n",
       "    }\n",
       "\n",
       "    .dataframe tbody tr th {\n",
       "        vertical-align: top;\n",
       "    }\n",
       "\n",
       "    .dataframe thead th {\n",
       "        text-align: right;\n",
       "    }\n",
       "</style>\n",
       "<table border=\"1\" class=\"dataframe\">\n",
       "  <thead>\n",
       "    <tr style=\"text-align: right;\">\n",
       "      <th></th>\n",
       "      <th>factor</th>\n",
       "      <th>risk_premium</th>\n",
       "      <th>t_stat</th>\n",
       "      <th>t_stat_NW</th>\n",
       "    </tr>\n",
       "  </thead>\n",
       "  <tbody>\n",
       "    <tr>\n",
       "      <th>0</th>\n",
       "      <td>CMKT</td>\n",
       "      <td>-0.291</td>\n",
       "      <td>-0.827</td>\n",
       "      <td>-0.864</td>\n",
       "    </tr>\n",
       "    <tr>\n",
       "      <th>1</th>\n",
       "      <td>CMOM</td>\n",
       "      <td>0.857</td>\n",
       "      <td>0.985</td>\n",
       "      <td>1.010</td>\n",
       "    </tr>\n",
       "    <tr>\n",
       "      <th>2</th>\n",
       "      <td>CSIZE</td>\n",
       "      <td>-0.388</td>\n",
       "      <td>-1.038</td>\n",
       "      <td>-1.057</td>\n",
       "    </tr>\n",
       "    <tr>\n",
       "      <th>3</th>\n",
       "      <td>DOM</td>\n",
       "      <td>-0.016</td>\n",
       "      <td>-1.284</td>\n",
       "      <td>-1.319</td>\n",
       "    </tr>\n",
       "    <tr>\n",
       "      <th>4</th>\n",
       "      <td>Intercept</td>\n",
       "      <td>10.599</td>\n",
       "      <td>0.938</td>\n",
       "      <td>0.963</td>\n",
       "    </tr>\n",
       "  </tbody>\n",
       "</table>\n",
       "</div>"
      ],
      "text/plain": [
       "      factor  risk_premium  t_stat  t_stat_NW\n",
       "0       CMKT        -0.291  -0.827     -0.864\n",
       "1       CMOM         0.857   0.985      1.010\n",
       "2      CSIZE        -0.388  -1.038     -1.057\n",
       "3        DOM        -0.016  -1.284     -1.319\n",
       "4  Intercept        10.599   0.938      0.963"
      ]
     },
     "metadata": {},
     "output_type": "display_data"
    },
    {
     "name": "stdout",
     "output_type": "stream",
     "text": [
      "Fama McBeth stablecoin True eigen_centrality_undirected\n"
     ]
    },
    {
     "data": {
      "application/vnd.microsoft.datawrangler.viewer.v0+json": {
       "columns": [
        {
         "name": "index",
         "rawType": "int64",
         "type": "integer"
        },
        {
         "name": "factor",
         "rawType": "object",
         "type": "string"
        },
        {
         "name": "risk_premium",
         "rawType": "float64",
         "type": "float"
        },
        {
         "name": "t_stat",
         "rawType": "float64",
         "type": "float"
        },
        {
         "name": "t_stat_NW",
         "rawType": "float64",
         "type": "float"
        }
       ],
       "conversionMethod": "pd.DataFrame",
       "ref": "6bdbb9fc-8703-49fc-9284-fb42b211f8ee",
       "rows": [
        [
         "0",
         "CMKT",
         "-0.291",
         "-0.827",
         "-0.864"
        ],
        [
         "1",
         "CMOM",
         "0.857",
         "0.985",
         "1.01"
        ],
        [
         "2",
         "CSIZE",
         "-0.388",
         "-1.038",
         "-1.057"
        ],
        [
         "3",
         "DOM",
         "-0.019",
         "-1.517",
         "-1.525"
        ],
        [
         "4",
         "Intercept",
         "10.599",
         "0.938",
         "0.963"
        ]
       ],
       "shape": {
        "columns": 4,
        "rows": 5
       }
      },
      "text/html": [
       "<div>\n",
       "<style scoped>\n",
       "    .dataframe tbody tr th:only-of-type {\n",
       "        vertical-align: middle;\n",
       "    }\n",
       "\n",
       "    .dataframe tbody tr th {\n",
       "        vertical-align: top;\n",
       "    }\n",
       "\n",
       "    .dataframe thead th {\n",
       "        text-align: right;\n",
       "    }\n",
       "</style>\n",
       "<table border=\"1\" class=\"dataframe\">\n",
       "  <thead>\n",
       "    <tr style=\"text-align: right;\">\n",
       "      <th></th>\n",
       "      <th>factor</th>\n",
       "      <th>risk_premium</th>\n",
       "      <th>t_stat</th>\n",
       "      <th>t_stat_NW</th>\n",
       "    </tr>\n",
       "  </thead>\n",
       "  <tbody>\n",
       "    <tr>\n",
       "      <th>0</th>\n",
       "      <td>CMKT</td>\n",
       "      <td>-0.291</td>\n",
       "      <td>-0.827</td>\n",
       "      <td>-0.864</td>\n",
       "    </tr>\n",
       "    <tr>\n",
       "      <th>1</th>\n",
       "      <td>CMOM</td>\n",
       "      <td>0.857</td>\n",
       "      <td>0.985</td>\n",
       "      <td>1.010</td>\n",
       "    </tr>\n",
       "    <tr>\n",
       "      <th>2</th>\n",
       "      <td>CSIZE</td>\n",
       "      <td>-0.388</td>\n",
       "      <td>-1.038</td>\n",
       "      <td>-1.057</td>\n",
       "    </tr>\n",
       "    <tr>\n",
       "      <th>3</th>\n",
       "      <td>DOM</td>\n",
       "      <td>-0.019</td>\n",
       "      <td>-1.517</td>\n",
       "      <td>-1.525</td>\n",
       "    </tr>\n",
       "    <tr>\n",
       "      <th>4</th>\n",
       "      <td>Intercept</td>\n",
       "      <td>10.599</td>\n",
       "      <td>0.938</td>\n",
       "      <td>0.963</td>\n",
       "    </tr>\n",
       "  </tbody>\n",
       "</table>\n",
       "</div>"
      ],
      "text/plain": [
       "      factor  risk_premium  t_stat  t_stat_NW\n",
       "0       CMKT        -0.291  -0.827     -0.864\n",
       "1       CMOM         0.857   0.985      1.010\n",
       "2      CSIZE        -0.388  -1.038     -1.057\n",
       "3        DOM        -0.019  -1.517     -1.525\n",
       "4  Intercept        10.599   0.938      0.963"
      ]
     },
     "metadata": {},
     "output_type": "display_data"
    },
    {
     "name": "stdout",
     "output_type": "stream",
     "text": [
      "Fama McBeth stablecoin True vol_inter_full_len_share\n"
     ]
    },
    {
     "data": {
      "application/vnd.microsoft.datawrangler.viewer.v0+json": {
       "columns": [
        {
         "name": "index",
         "rawType": "int64",
         "type": "integer"
        },
        {
         "name": "factor",
         "rawType": "object",
         "type": "string"
        },
        {
         "name": "risk_premium",
         "rawType": "float64",
         "type": "float"
        },
        {
         "name": "t_stat",
         "rawType": "float64",
         "type": "float"
        },
        {
         "name": "t_stat_NW",
         "rawType": "float64",
         "type": "float"
        }
       ],
       "conversionMethod": "pd.DataFrame",
       "ref": "ef847905-346a-4b3b-bdbc-461fe9ea4718",
       "rows": [
        [
         "0",
         "CMKT",
         "-0.291",
         "-0.827",
         "-0.864"
        ],
        [
         "1",
         "CMOM",
         "0.857",
         "0.985",
         "1.01"
        ],
        [
         "2",
         "CSIZE",
         "-0.388",
         "-1.038",
         "-1.057"
        ],
        [
         "3",
         "DOM",
         "-0.014",
         "-1.091",
         "-1.116"
        ],
        [
         "4",
         "Intercept",
         "10.599",
         "0.938",
         "0.963"
        ]
       ],
       "shape": {
        "columns": 4,
        "rows": 5
       }
      },
      "text/html": [
       "<div>\n",
       "<style scoped>\n",
       "    .dataframe tbody tr th:only-of-type {\n",
       "        vertical-align: middle;\n",
       "    }\n",
       "\n",
       "    .dataframe tbody tr th {\n",
       "        vertical-align: top;\n",
       "    }\n",
       "\n",
       "    .dataframe thead th {\n",
       "        text-align: right;\n",
       "    }\n",
       "</style>\n",
       "<table border=\"1\" class=\"dataframe\">\n",
       "  <thead>\n",
       "    <tr style=\"text-align: right;\">\n",
       "      <th></th>\n",
       "      <th>factor</th>\n",
       "      <th>risk_premium</th>\n",
       "      <th>t_stat</th>\n",
       "      <th>t_stat_NW</th>\n",
       "    </tr>\n",
       "  </thead>\n",
       "  <tbody>\n",
       "    <tr>\n",
       "      <th>0</th>\n",
       "      <td>CMKT</td>\n",
       "      <td>-0.291</td>\n",
       "      <td>-0.827</td>\n",
       "      <td>-0.864</td>\n",
       "    </tr>\n",
       "    <tr>\n",
       "      <th>1</th>\n",
       "      <td>CMOM</td>\n",
       "      <td>0.857</td>\n",
       "      <td>0.985</td>\n",
       "      <td>1.010</td>\n",
       "    </tr>\n",
       "    <tr>\n",
       "      <th>2</th>\n",
       "      <td>CSIZE</td>\n",
       "      <td>-0.388</td>\n",
       "      <td>-1.038</td>\n",
       "      <td>-1.057</td>\n",
       "    </tr>\n",
       "    <tr>\n",
       "      <th>3</th>\n",
       "      <td>DOM</td>\n",
       "      <td>-0.014</td>\n",
       "      <td>-1.091</td>\n",
       "      <td>-1.116</td>\n",
       "    </tr>\n",
       "    <tr>\n",
       "      <th>4</th>\n",
       "      <td>Intercept</td>\n",
       "      <td>10.599</td>\n",
       "      <td>0.938</td>\n",
       "      <td>0.963</td>\n",
       "    </tr>\n",
       "  </tbody>\n",
       "</table>\n",
       "</div>"
      ],
      "text/plain": [
       "      factor  risk_premium  t_stat  t_stat_NW\n",
       "0       CMKT        -0.291  -0.827     -0.864\n",
       "1       CMOM         0.857   0.985      1.010\n",
       "2      CSIZE        -0.388  -1.038     -1.057\n",
       "3        DOM        -0.014  -1.091     -1.116\n",
       "4  Intercept        10.599   0.938      0.963"
      ]
     },
     "metadata": {},
     "output_type": "display_data"
    },
    {
     "name": "stdout",
     "output_type": "stream",
     "text": [
      "Fama McBeth stablecoin True betweenness_centrality_volume\n"
     ]
    },
    {
     "data": {
      "application/vnd.microsoft.datawrangler.viewer.v0+json": {
       "columns": [
        {
         "name": "index",
         "rawType": "int64",
         "type": "integer"
        },
        {
         "name": "factor",
         "rawType": "object",
         "type": "string"
        },
        {
         "name": "risk_premium",
         "rawType": "float64",
         "type": "float"
        },
        {
         "name": "t_stat",
         "rawType": "float64",
         "type": "float"
        },
        {
         "name": "t_stat_NW",
         "rawType": "float64",
         "type": "float"
        }
       ],
       "conversionMethod": "pd.DataFrame",
       "ref": "725917d0-2862-4487-a878-85a36d0ef54a",
       "rows": [
        [
         "0",
         "CMKT",
         "-0.291",
         "-0.827",
         "-0.864"
        ],
        [
         "1",
         "CMOM",
         "0.857",
         "0.985",
         "1.01"
        ],
        [
         "2",
         "CSIZE",
         "-0.388",
         "-1.038",
         "-1.057"
        ],
        [
         "3",
         "DOM",
         "-0.014",
         "-1.091",
         "-1.116"
        ],
        [
         "4",
         "Intercept",
         "10.599",
         "0.938",
         "0.963"
        ]
       ],
       "shape": {
        "columns": 4,
        "rows": 5
       }
      },
      "text/html": [
       "<div>\n",
       "<style scoped>\n",
       "    .dataframe tbody tr th:only-of-type {\n",
       "        vertical-align: middle;\n",
       "    }\n",
       "\n",
       "    .dataframe tbody tr th {\n",
       "        vertical-align: top;\n",
       "    }\n",
       "\n",
       "    .dataframe thead th {\n",
       "        text-align: right;\n",
       "    }\n",
       "</style>\n",
       "<table border=\"1\" class=\"dataframe\">\n",
       "  <thead>\n",
       "    <tr style=\"text-align: right;\">\n",
       "      <th></th>\n",
       "      <th>factor</th>\n",
       "      <th>risk_premium</th>\n",
       "      <th>t_stat</th>\n",
       "      <th>t_stat_NW</th>\n",
       "    </tr>\n",
       "  </thead>\n",
       "  <tbody>\n",
       "    <tr>\n",
       "      <th>0</th>\n",
       "      <td>CMKT</td>\n",
       "      <td>-0.291</td>\n",
       "      <td>-0.827</td>\n",
       "      <td>-0.864</td>\n",
       "    </tr>\n",
       "    <tr>\n",
       "      <th>1</th>\n",
       "      <td>CMOM</td>\n",
       "      <td>0.857</td>\n",
       "      <td>0.985</td>\n",
       "      <td>1.010</td>\n",
       "    </tr>\n",
       "    <tr>\n",
       "      <th>2</th>\n",
       "      <td>CSIZE</td>\n",
       "      <td>-0.388</td>\n",
       "      <td>-1.038</td>\n",
       "      <td>-1.057</td>\n",
       "    </tr>\n",
       "    <tr>\n",
       "      <th>3</th>\n",
       "      <td>DOM</td>\n",
       "      <td>-0.014</td>\n",
       "      <td>-1.091</td>\n",
       "      <td>-1.116</td>\n",
       "    </tr>\n",
       "    <tr>\n",
       "      <th>4</th>\n",
       "      <td>Intercept</td>\n",
       "      <td>10.599</td>\n",
       "      <td>0.938</td>\n",
       "      <td>0.963</td>\n",
       "    </tr>\n",
       "  </tbody>\n",
       "</table>\n",
       "</div>"
      ],
      "text/plain": [
       "      factor  risk_premium  t_stat  t_stat_NW\n",
       "0       CMKT        -0.291  -0.827     -0.864\n",
       "1       CMOM         0.857   0.985      1.010\n",
       "2      CSIZE        -0.388  -1.038     -1.057\n",
       "3        DOM        -0.014  -1.091     -1.116\n",
       "4  Intercept        10.599   0.938      0.963"
      ]
     },
     "metadata": {},
     "output_type": "display_data"
    },
    {
     "name": "stdout",
     "output_type": "stream",
     "text": [
      "Fama McBeth stablecoin True betweenness_centrality_count\n"
     ]
    },
    {
     "data": {
      "application/vnd.microsoft.datawrangler.viewer.v0+json": {
       "columns": [
        {
         "name": "index",
         "rawType": "int64",
         "type": "integer"
        },
        {
         "name": "factor",
         "rawType": "object",
         "type": "string"
        },
        {
         "name": "risk_premium",
         "rawType": "float64",
         "type": "float"
        },
        {
         "name": "t_stat",
         "rawType": "float64",
         "type": "float"
        },
        {
         "name": "t_stat_NW",
         "rawType": "float64",
         "type": "float"
        }
       ],
       "conversionMethod": "pd.DataFrame",
       "ref": "e94611fc-5d87-4ee1-9ab8-1a9bdc42e4c1",
       "rows": [
        [
         "0",
         "CMKT",
         "-0.291",
         "-0.827",
         "-0.864"
        ],
        [
         "1",
         "CMOM",
         "0.857",
         "0.985",
         "1.01"
        ],
        [
         "2",
         "CSIZE",
         "-0.388",
         "-1.038",
         "-1.057"
        ],
        [
         "3",
         "DOM",
         "-0.014",
         "-1.095",
         "-1.117"
        ],
        [
         "4",
         "Intercept",
         "10.599",
         "0.938",
         "0.963"
        ]
       ],
       "shape": {
        "columns": 4,
        "rows": 5
       }
      },
      "text/html": [
       "<div>\n",
       "<style scoped>\n",
       "    .dataframe tbody tr th:only-of-type {\n",
       "        vertical-align: middle;\n",
       "    }\n",
       "\n",
       "    .dataframe tbody tr th {\n",
       "        vertical-align: top;\n",
       "    }\n",
       "\n",
       "    .dataframe thead th {\n",
       "        text-align: right;\n",
       "    }\n",
       "</style>\n",
       "<table border=\"1\" class=\"dataframe\">\n",
       "  <thead>\n",
       "    <tr style=\"text-align: right;\">\n",
       "      <th></th>\n",
       "      <th>factor</th>\n",
       "      <th>risk_premium</th>\n",
       "      <th>t_stat</th>\n",
       "      <th>t_stat_NW</th>\n",
       "    </tr>\n",
       "  </thead>\n",
       "  <tbody>\n",
       "    <tr>\n",
       "      <th>0</th>\n",
       "      <td>CMKT</td>\n",
       "      <td>-0.291</td>\n",
       "      <td>-0.827</td>\n",
       "      <td>-0.864</td>\n",
       "    </tr>\n",
       "    <tr>\n",
       "      <th>1</th>\n",
       "      <td>CMOM</td>\n",
       "      <td>0.857</td>\n",
       "      <td>0.985</td>\n",
       "      <td>1.010</td>\n",
       "    </tr>\n",
       "    <tr>\n",
       "      <th>2</th>\n",
       "      <td>CSIZE</td>\n",
       "      <td>-0.388</td>\n",
       "      <td>-1.038</td>\n",
       "      <td>-1.057</td>\n",
       "    </tr>\n",
       "    <tr>\n",
       "      <th>3</th>\n",
       "      <td>DOM</td>\n",
       "      <td>-0.014</td>\n",
       "      <td>-1.095</td>\n",
       "      <td>-1.117</td>\n",
       "    </tr>\n",
       "    <tr>\n",
       "      <th>4</th>\n",
       "      <td>Intercept</td>\n",
       "      <td>10.599</td>\n",
       "      <td>0.938</td>\n",
       "      <td>0.963</td>\n",
       "    </tr>\n",
       "  </tbody>\n",
       "</table>\n",
       "</div>"
      ],
      "text/plain": [
       "      factor  risk_premium  t_stat  t_stat_NW\n",
       "0       CMKT        -0.291  -0.827     -0.864\n",
       "1       CMOM         0.857   0.985      1.010\n",
       "2      CSIZE        -0.388  -1.038     -1.057\n",
       "3        DOM        -0.014  -1.095     -1.117\n",
       "4  Intercept        10.599   0.938      0.963"
      ]
     },
     "metadata": {},
     "output_type": "display_data"
    },
    {
     "name": "stdout",
     "output_type": "stream",
     "text": [
      "Fama McBeth stablecoin True total_eigen_centrality_undirected\n"
     ]
    },
    {
     "data": {
      "application/vnd.microsoft.datawrangler.viewer.v0+json": {
       "columns": [
        {
         "name": "index",
         "rawType": "int64",
         "type": "integer"
        },
        {
         "name": "factor",
         "rawType": "object",
         "type": "string"
        },
        {
         "name": "risk_premium",
         "rawType": "float64",
         "type": "float"
        },
        {
         "name": "t_stat",
         "rawType": "float64",
         "type": "float"
        },
        {
         "name": "t_stat_NW",
         "rawType": "float64",
         "type": "float"
        }
       ],
       "conversionMethod": "pd.DataFrame",
       "ref": "63ea5074-4fbc-4689-97b2-693dc767c494",
       "rows": [
        [
         "0",
         "CMKT",
         "-0.291",
         "-0.827",
         "-0.864"
        ],
        [
         "1",
         "CMOM",
         "0.857",
         "0.985",
         "1.01"
        ],
        [
         "2",
         "CSIZE",
         "-0.388",
         "-1.038",
         "-1.057"
        ],
        [
         "3",
         "DOM",
         "-0.019",
         "-1.492",
         "-1.496"
        ],
        [
         "4",
         "Intercept",
         "10.599",
         "0.938",
         "0.963"
        ]
       ],
       "shape": {
        "columns": 4,
        "rows": 5
       }
      },
      "text/html": [
       "<div>\n",
       "<style scoped>\n",
       "    .dataframe tbody tr th:only-of-type {\n",
       "        vertical-align: middle;\n",
       "    }\n",
       "\n",
       "    .dataframe tbody tr th {\n",
       "        vertical-align: top;\n",
       "    }\n",
       "\n",
       "    .dataframe thead th {\n",
       "        text-align: right;\n",
       "    }\n",
       "</style>\n",
       "<table border=\"1\" class=\"dataframe\">\n",
       "  <thead>\n",
       "    <tr style=\"text-align: right;\">\n",
       "      <th></th>\n",
       "      <th>factor</th>\n",
       "      <th>risk_premium</th>\n",
       "      <th>t_stat</th>\n",
       "      <th>t_stat_NW</th>\n",
       "    </tr>\n",
       "  </thead>\n",
       "  <tbody>\n",
       "    <tr>\n",
       "      <th>0</th>\n",
       "      <td>CMKT</td>\n",
       "      <td>-0.291</td>\n",
       "      <td>-0.827</td>\n",
       "      <td>-0.864</td>\n",
       "    </tr>\n",
       "    <tr>\n",
       "      <th>1</th>\n",
       "      <td>CMOM</td>\n",
       "      <td>0.857</td>\n",
       "      <td>0.985</td>\n",
       "      <td>1.010</td>\n",
       "    </tr>\n",
       "    <tr>\n",
       "      <th>2</th>\n",
       "      <td>CSIZE</td>\n",
       "      <td>-0.388</td>\n",
       "      <td>-1.038</td>\n",
       "      <td>-1.057</td>\n",
       "    </tr>\n",
       "    <tr>\n",
       "      <th>3</th>\n",
       "      <td>DOM</td>\n",
       "      <td>-0.019</td>\n",
       "      <td>-1.492</td>\n",
       "      <td>-1.496</td>\n",
       "    </tr>\n",
       "    <tr>\n",
       "      <th>4</th>\n",
       "      <td>Intercept</td>\n",
       "      <td>10.599</td>\n",
       "      <td>0.938</td>\n",
       "      <td>0.963</td>\n",
       "    </tr>\n",
       "  </tbody>\n",
       "</table>\n",
       "</div>"
      ],
      "text/plain": [
       "      factor  risk_premium  t_stat  t_stat_NW\n",
       "0       CMKT        -0.291  -0.827     -0.864\n",
       "1       CMOM         0.857   0.985      1.010\n",
       "2      CSIZE        -0.388  -1.038     -1.057\n",
       "3        DOM        -0.019  -1.492     -1.496\n",
       "4  Intercept        10.599   0.938      0.963"
      ]
     },
     "metadata": {},
     "output_type": "display_data"
    },
    {
     "name": "stdout",
     "output_type": "stream",
     "text": [
      "Fama McBeth stablecoin True Volume_share\n"
     ]
    },
    {
     "data": {
      "application/vnd.microsoft.datawrangler.viewer.v0+json": {
       "columns": [
        {
         "name": "index",
         "rawType": "int64",
         "type": "integer"
        },
        {
         "name": "factor",
         "rawType": "object",
         "type": "string"
        },
        {
         "name": "risk_premium",
         "rawType": "float64",
         "type": "float"
        },
        {
         "name": "t_stat",
         "rawType": "float64",
         "type": "float"
        },
        {
         "name": "t_stat_NW",
         "rawType": "float64",
         "type": "float"
        }
       ],
       "conversionMethod": "pd.DataFrame",
       "ref": "4793b4d0-53f7-4250-9ca1-cffd914f9ddf",
       "rows": [
        [
         "0",
         "CMKT",
         "-0.291",
         "-0.827",
         "-0.864"
        ],
        [
         "1",
         "CMOM",
         "0.857",
         "0.985",
         "1.01"
        ],
        [
         "2",
         "CSIZE",
         "-0.388",
         "-1.038",
         "-1.057"
        ],
        [
         "3",
         "DOM",
         "-0.019",
         "-1.466",
         "-1.479"
        ],
        [
         "4",
         "Intercept",
         "10.599",
         "0.938",
         "0.963"
        ]
       ],
       "shape": {
        "columns": 4,
        "rows": 5
       }
      },
      "text/html": [
       "<div>\n",
       "<style scoped>\n",
       "    .dataframe tbody tr th:only-of-type {\n",
       "        vertical-align: middle;\n",
       "    }\n",
       "\n",
       "    .dataframe tbody tr th {\n",
       "        vertical-align: top;\n",
       "    }\n",
       "\n",
       "    .dataframe thead th {\n",
       "        text-align: right;\n",
       "    }\n",
       "</style>\n",
       "<table border=\"1\" class=\"dataframe\">\n",
       "  <thead>\n",
       "    <tr style=\"text-align: right;\">\n",
       "      <th></th>\n",
       "      <th>factor</th>\n",
       "      <th>risk_premium</th>\n",
       "      <th>t_stat</th>\n",
       "      <th>t_stat_NW</th>\n",
       "    </tr>\n",
       "  </thead>\n",
       "  <tbody>\n",
       "    <tr>\n",
       "      <th>0</th>\n",
       "      <td>CMKT</td>\n",
       "      <td>-0.291</td>\n",
       "      <td>-0.827</td>\n",
       "      <td>-0.864</td>\n",
       "    </tr>\n",
       "    <tr>\n",
       "      <th>1</th>\n",
       "      <td>CMOM</td>\n",
       "      <td>0.857</td>\n",
       "      <td>0.985</td>\n",
       "      <td>1.010</td>\n",
       "    </tr>\n",
       "    <tr>\n",
       "      <th>2</th>\n",
       "      <td>CSIZE</td>\n",
       "      <td>-0.388</td>\n",
       "      <td>-1.038</td>\n",
       "      <td>-1.057</td>\n",
       "    </tr>\n",
       "    <tr>\n",
       "      <th>3</th>\n",
       "      <td>DOM</td>\n",
       "      <td>-0.019</td>\n",
       "      <td>-1.466</td>\n",
       "      <td>-1.479</td>\n",
       "    </tr>\n",
       "    <tr>\n",
       "      <th>4</th>\n",
       "      <td>Intercept</td>\n",
       "      <td>10.599</td>\n",
       "      <td>0.938</td>\n",
       "      <td>0.963</td>\n",
       "    </tr>\n",
       "  </tbody>\n",
       "</table>\n",
       "</div>"
      ],
      "text/plain": [
       "      factor  risk_premium  t_stat  t_stat_NW\n",
       "0       CMKT        -0.291  -0.827     -0.864\n",
       "1       CMOM         0.857   0.985      1.010\n",
       "2      CSIZE        -0.388  -1.038     -1.057\n",
       "3        DOM        -0.019  -1.466     -1.479\n",
       "4  Intercept        10.599   0.938      0.963"
      ]
     },
     "metadata": {},
     "output_type": "display_data"
    },
    {
     "name": "stdout",
     "output_type": "stream",
     "text": [
      "Fama McBeth stablecoin True Inflow_centrality\n"
     ]
    },
    {
     "data": {
      "application/vnd.microsoft.datawrangler.viewer.v0+json": {
       "columns": [
        {
         "name": "index",
         "rawType": "int64",
         "type": "integer"
        },
        {
         "name": "factor",
         "rawType": "object",
         "type": "string"
        },
        {
         "name": "risk_premium",
         "rawType": "float64",
         "type": "float"
        },
        {
         "name": "t_stat",
         "rawType": "float64",
         "type": "float"
        },
        {
         "name": "t_stat_NW",
         "rawType": "float64",
         "type": "float"
        }
       ],
       "conversionMethod": "pd.DataFrame",
       "ref": "ccf44e62-bed3-48df-9eb9-774936d4601a",
       "rows": [
        [
         "0",
         "CMKT",
         "-0.29",
         "-0.824",
         "-0.861"
        ],
        [
         "1",
         "CMOM",
         "0.856",
         "0.984",
         "1.008"
        ],
        [
         "2",
         "CSIZE",
         "-0.389",
         "-1.042",
         "-1.061"
        ],
        [
         "3",
         "DOM",
         "0.083",
         "1.543",
         "1.587"
        ],
        [
         "4",
         "Intercept",
         "10.634",
         "0.941",
         "0.966"
        ]
       ],
       "shape": {
        "columns": 4,
        "rows": 5
       }
      },
      "text/html": [
       "<div>\n",
       "<style scoped>\n",
       "    .dataframe tbody tr th:only-of-type {\n",
       "        vertical-align: middle;\n",
       "    }\n",
       "\n",
       "    .dataframe tbody tr th {\n",
       "        vertical-align: top;\n",
       "    }\n",
       "\n",
       "    .dataframe thead th {\n",
       "        text-align: right;\n",
       "    }\n",
       "</style>\n",
       "<table border=\"1\" class=\"dataframe\">\n",
       "  <thead>\n",
       "    <tr style=\"text-align: right;\">\n",
       "      <th></th>\n",
       "      <th>factor</th>\n",
       "      <th>risk_premium</th>\n",
       "      <th>t_stat</th>\n",
       "      <th>t_stat_NW</th>\n",
       "    </tr>\n",
       "  </thead>\n",
       "  <tbody>\n",
       "    <tr>\n",
       "      <th>0</th>\n",
       "      <td>CMKT</td>\n",
       "      <td>-0.290</td>\n",
       "      <td>-0.824</td>\n",
       "      <td>-0.861</td>\n",
       "    </tr>\n",
       "    <tr>\n",
       "      <th>1</th>\n",
       "      <td>CMOM</td>\n",
       "      <td>0.856</td>\n",
       "      <td>0.984</td>\n",
       "      <td>1.008</td>\n",
       "    </tr>\n",
       "    <tr>\n",
       "      <th>2</th>\n",
       "      <td>CSIZE</td>\n",
       "      <td>-0.389</td>\n",
       "      <td>-1.042</td>\n",
       "      <td>-1.061</td>\n",
       "    </tr>\n",
       "    <tr>\n",
       "      <th>3</th>\n",
       "      <td>DOM</td>\n",
       "      <td>0.083</td>\n",
       "      <td>1.543</td>\n",
       "      <td>1.587</td>\n",
       "    </tr>\n",
       "    <tr>\n",
       "      <th>4</th>\n",
       "      <td>Intercept</td>\n",
       "      <td>10.634</td>\n",
       "      <td>0.941</td>\n",
       "      <td>0.966</td>\n",
       "    </tr>\n",
       "  </tbody>\n",
       "</table>\n",
       "</div>"
      ],
      "text/plain": [
       "      factor  risk_premium  t_stat  t_stat_NW\n",
       "0       CMKT        -0.290  -0.824     -0.861\n",
       "1       CMOM         0.856   0.984      1.008\n",
       "2      CSIZE        -0.389  -1.042     -1.061\n",
       "3        DOM         0.083   1.543      1.587\n",
       "4  Intercept        10.634   0.941      0.966"
      ]
     },
     "metadata": {},
     "output_type": "display_data"
    },
    {
     "name": "stdout",
     "output_type": "stream",
     "text": [
      "Fama McBeth stablecoin True Outflow_centrality\n"
     ]
    },
    {
     "data": {
      "application/vnd.microsoft.datawrangler.viewer.v0+json": {
       "columns": [
        {
         "name": "index",
         "rawType": "int64",
         "type": "integer"
        },
        {
         "name": "factor",
         "rawType": "object",
         "type": "string"
        },
        {
         "name": "risk_premium",
         "rawType": "float64",
         "type": "float"
        },
        {
         "name": "t_stat",
         "rawType": "float64",
         "type": "float"
        },
        {
         "name": "t_stat_NW",
         "rawType": "float64",
         "type": "float"
        }
       ],
       "conversionMethod": "pd.DataFrame",
       "ref": "2a14d460-4162-45bc-aa00-aa890aa40c06",
       "rows": [
        [
         "0",
         "CMKT",
         "-0.29",
         "-0.824",
         "-0.861"
        ],
        [
         "1",
         "CMOM",
         "0.856",
         "0.984",
         "1.008"
        ],
        [
         "2",
         "CSIZE",
         "-0.389",
         "-1.042",
         "-1.061"
        ],
        [
         "3",
         "DOM",
         "0.083",
         "1.543",
         "1.587"
        ],
        [
         "4",
         "Intercept",
         "10.634",
         "0.941",
         "0.966"
        ]
       ],
       "shape": {
        "columns": 4,
        "rows": 5
       }
      },
      "text/html": [
       "<div>\n",
       "<style scoped>\n",
       "    .dataframe tbody tr th:only-of-type {\n",
       "        vertical-align: middle;\n",
       "    }\n",
       "\n",
       "    .dataframe tbody tr th {\n",
       "        vertical-align: top;\n",
       "    }\n",
       "\n",
       "    .dataframe thead th {\n",
       "        text-align: right;\n",
       "    }\n",
       "</style>\n",
       "<table border=\"1\" class=\"dataframe\">\n",
       "  <thead>\n",
       "    <tr style=\"text-align: right;\">\n",
       "      <th></th>\n",
       "      <th>factor</th>\n",
       "      <th>risk_premium</th>\n",
       "      <th>t_stat</th>\n",
       "      <th>t_stat_NW</th>\n",
       "    </tr>\n",
       "  </thead>\n",
       "  <tbody>\n",
       "    <tr>\n",
       "      <th>0</th>\n",
       "      <td>CMKT</td>\n",
       "      <td>-0.290</td>\n",
       "      <td>-0.824</td>\n",
       "      <td>-0.861</td>\n",
       "    </tr>\n",
       "    <tr>\n",
       "      <th>1</th>\n",
       "      <td>CMOM</td>\n",
       "      <td>0.856</td>\n",
       "      <td>0.984</td>\n",
       "      <td>1.008</td>\n",
       "    </tr>\n",
       "    <tr>\n",
       "      <th>2</th>\n",
       "      <td>CSIZE</td>\n",
       "      <td>-0.389</td>\n",
       "      <td>-1.042</td>\n",
       "      <td>-1.061</td>\n",
       "    </tr>\n",
       "    <tr>\n",
       "      <th>3</th>\n",
       "      <td>DOM</td>\n",
       "      <td>0.083</td>\n",
       "      <td>1.543</td>\n",
       "      <td>1.587</td>\n",
       "    </tr>\n",
       "    <tr>\n",
       "      <th>4</th>\n",
       "      <td>Intercept</td>\n",
       "      <td>10.634</td>\n",
       "      <td>0.941</td>\n",
       "      <td>0.966</td>\n",
       "    </tr>\n",
       "  </tbody>\n",
       "</table>\n",
       "</div>"
      ],
      "text/plain": [
       "      factor  risk_premium  t_stat  t_stat_NW\n",
       "0       CMKT        -0.290  -0.824     -0.861\n",
       "1       CMOM         0.856   0.984      1.008\n",
       "2      CSIZE        -0.389  -1.042     -1.061\n",
       "3        DOM         0.083   1.543      1.587\n",
       "4  Intercept        10.634   0.941      0.966"
      ]
     },
     "metadata": {},
     "output_type": "display_data"
    },
    {
     "name": "stdout",
     "output_type": "stream",
     "text": [
      "Fama McBeth stablecoin True TVL_share\n"
     ]
    },
    {
     "data": {
      "application/vnd.microsoft.datawrangler.viewer.v0+json": {
       "columns": [
        {
         "name": "index",
         "rawType": "int64",
         "type": "integer"
        },
        {
         "name": "factor",
         "rawType": "object",
         "type": "string"
        },
        {
         "name": "risk_premium",
         "rawType": "float64",
         "type": "float"
        },
        {
         "name": "t_stat",
         "rawType": "float64",
         "type": "float"
        },
        {
         "name": "t_stat_NW",
         "rawType": "float64",
         "type": "float"
        }
       ],
       "conversionMethod": "pd.DataFrame",
       "ref": "155d26c4-fcf2-49af-be84-68f7c3ed1692",
       "rows": [
        [
         "0",
         "CMKT",
         "-0.291",
         "-0.827",
         "-0.864"
        ],
        [
         "1",
         "CMOM",
         "0.857",
         "0.985",
         "1.01"
        ],
        [
         "2",
         "CSIZE",
         "-0.388",
         "-1.038",
         "-1.057"
        ],
        [
         "3",
         "DOM",
         "-0.018",
         "-1.522",
         "-1.565"
        ],
        [
         "4",
         "Intercept",
         "10.599",
         "0.938",
         "0.963"
        ]
       ],
       "shape": {
        "columns": 4,
        "rows": 5
       }
      },
      "text/html": [
       "<div>\n",
       "<style scoped>\n",
       "    .dataframe tbody tr th:only-of-type {\n",
       "        vertical-align: middle;\n",
       "    }\n",
       "\n",
       "    .dataframe tbody tr th {\n",
       "        vertical-align: top;\n",
       "    }\n",
       "\n",
       "    .dataframe thead th {\n",
       "        text-align: right;\n",
       "    }\n",
       "</style>\n",
       "<table border=\"1\" class=\"dataframe\">\n",
       "  <thead>\n",
       "    <tr style=\"text-align: right;\">\n",
       "      <th></th>\n",
       "      <th>factor</th>\n",
       "      <th>risk_premium</th>\n",
       "      <th>t_stat</th>\n",
       "      <th>t_stat_NW</th>\n",
       "    </tr>\n",
       "  </thead>\n",
       "  <tbody>\n",
       "    <tr>\n",
       "      <th>0</th>\n",
       "      <td>CMKT</td>\n",
       "      <td>-0.291</td>\n",
       "      <td>-0.827</td>\n",
       "      <td>-0.864</td>\n",
       "    </tr>\n",
       "    <tr>\n",
       "      <th>1</th>\n",
       "      <td>CMOM</td>\n",
       "      <td>0.857</td>\n",
       "      <td>0.985</td>\n",
       "      <td>1.010</td>\n",
       "    </tr>\n",
       "    <tr>\n",
       "      <th>2</th>\n",
       "      <td>CSIZE</td>\n",
       "      <td>-0.388</td>\n",
       "      <td>-1.038</td>\n",
       "      <td>-1.057</td>\n",
       "    </tr>\n",
       "    <tr>\n",
       "      <th>3</th>\n",
       "      <td>DOM</td>\n",
       "      <td>-0.018</td>\n",
       "      <td>-1.522</td>\n",
       "      <td>-1.565</td>\n",
       "    </tr>\n",
       "    <tr>\n",
       "      <th>4</th>\n",
       "      <td>Intercept</td>\n",
       "      <td>10.599</td>\n",
       "      <td>0.938</td>\n",
       "      <td>0.963</td>\n",
       "    </tr>\n",
       "  </tbody>\n",
       "</table>\n",
       "</div>"
      ],
      "text/plain": [
       "      factor  risk_premium  t_stat  t_stat_NW\n",
       "0       CMKT        -0.291  -0.827     -0.864\n",
       "1       CMOM         0.857   0.985      1.010\n",
       "2      CSIZE        -0.388  -1.038     -1.057\n",
       "3        DOM        -0.018  -1.522     -1.565\n",
       "4  Intercept        10.599   0.938      0.963"
      ]
     },
     "metadata": {},
     "output_type": "display_data"
    },
    {
     "name": "stdout",
     "output_type": "stream",
     "text": [
      "Fama McBeth non-stablecoin True volume_ultimate_share\n"
     ]
    },
    {
     "data": {
      "application/vnd.microsoft.datawrangler.viewer.v0+json": {
       "columns": [
        {
         "name": "index",
         "rawType": "int64",
         "type": "integer"
        },
        {
         "name": "factor",
         "rawType": "object",
         "type": "string"
        },
        {
         "name": "risk_premium",
         "rawType": "float64",
         "type": "float"
        },
        {
         "name": "t_stat",
         "rawType": "float64",
         "type": "float"
        },
        {
         "name": "t_stat_NW",
         "rawType": "float64",
         "type": "float"
        }
       ],
       "conversionMethod": "pd.DataFrame",
       "ref": "253001e1-6980-4196-8239-06919e30f8f7",
       "rows": [
        [
         "0",
         "CMKT",
         "0.817",
         "5.709",
         "5.641"
        ],
        [
         "1",
         "CMOM",
         "-0.002",
         "-0.028",
         "-0.026"
        ],
        [
         "2",
         "CSIZE",
         "0.265",
         "3.215",
         "2.395"
        ],
        [
         "3",
         "DOM",
         "-0.052",
         "-0.349",
         "-0.361"
        ],
        [
         "4",
         "Intercept",
         "3.74",
         "3.248",
         "2.369"
        ]
       ],
       "shape": {
        "columns": 4,
        "rows": 5
       }
      },
      "text/html": [
       "<div>\n",
       "<style scoped>\n",
       "    .dataframe tbody tr th:only-of-type {\n",
       "        vertical-align: middle;\n",
       "    }\n",
       "\n",
       "    .dataframe tbody tr th {\n",
       "        vertical-align: top;\n",
       "    }\n",
       "\n",
       "    .dataframe thead th {\n",
       "        text-align: right;\n",
       "    }\n",
       "</style>\n",
       "<table border=\"1\" class=\"dataframe\">\n",
       "  <thead>\n",
       "    <tr style=\"text-align: right;\">\n",
       "      <th></th>\n",
       "      <th>factor</th>\n",
       "      <th>risk_premium</th>\n",
       "      <th>t_stat</th>\n",
       "      <th>t_stat_NW</th>\n",
       "    </tr>\n",
       "  </thead>\n",
       "  <tbody>\n",
       "    <tr>\n",
       "      <th>0</th>\n",
       "      <td>CMKT</td>\n",
       "      <td>0.817</td>\n",
       "      <td>5.709</td>\n",
       "      <td>5.641</td>\n",
       "    </tr>\n",
       "    <tr>\n",
       "      <th>1</th>\n",
       "      <td>CMOM</td>\n",
       "      <td>-0.002</td>\n",
       "      <td>-0.028</td>\n",
       "      <td>-0.026</td>\n",
       "    </tr>\n",
       "    <tr>\n",
       "      <th>2</th>\n",
       "      <td>CSIZE</td>\n",
       "      <td>0.265</td>\n",
       "      <td>3.215</td>\n",
       "      <td>2.395</td>\n",
       "    </tr>\n",
       "    <tr>\n",
       "      <th>3</th>\n",
       "      <td>DOM</td>\n",
       "      <td>-0.052</td>\n",
       "      <td>-0.349</td>\n",
       "      <td>-0.361</td>\n",
       "    </tr>\n",
       "    <tr>\n",
       "      <th>4</th>\n",
       "      <td>Intercept</td>\n",
       "      <td>3.740</td>\n",
       "      <td>3.248</td>\n",
       "      <td>2.369</td>\n",
       "    </tr>\n",
       "  </tbody>\n",
       "</table>\n",
       "</div>"
      ],
      "text/plain": [
       "      factor  risk_premium  t_stat  t_stat_NW\n",
       "0       CMKT         0.817   5.709      5.641\n",
       "1       CMOM        -0.002  -0.028     -0.026\n",
       "2      CSIZE         0.265   3.215      2.395\n",
       "3        DOM        -0.052  -0.349     -0.361\n",
       "4  Intercept         3.740   3.248      2.369"
      ]
     },
     "metadata": {},
     "output_type": "display_data"
    },
    {
     "name": "stdout",
     "output_type": "stream",
     "text": [
      "Fama McBeth non-stablecoin True eigen_centrality_undirected\n"
     ]
    },
    {
     "data": {
      "application/vnd.microsoft.datawrangler.viewer.v0+json": {
       "columns": [
        {
         "name": "index",
         "rawType": "int64",
         "type": "integer"
        },
        {
         "name": "factor",
         "rawType": "object",
         "type": "string"
        },
        {
         "name": "risk_premium",
         "rawType": "float64",
         "type": "float"
        },
        {
         "name": "t_stat",
         "rawType": "float64",
         "type": "float"
        },
        {
         "name": "t_stat_NW",
         "rawType": "float64",
         "type": "float"
        }
       ],
       "conversionMethod": "pd.DataFrame",
       "ref": "421e0a4c-0d46-443d-82ce-2e9fcde53211",
       "rows": [
        [
         "0",
         "CMKT",
         "0.818",
         "5.712",
         "5.648"
        ],
        [
         "1",
         "CMOM",
         "-0.002",
         "-0.029",
         "-0.027"
        ],
        [
         "2",
         "CSIZE",
         "0.266",
         "3.219",
         "2.4"
        ],
        [
         "3",
         "DOM",
         "-0.027",
         "-0.184",
         "-0.189"
        ],
        [
         "4",
         "Intercept",
         "3.745",
         "3.253",
         "2.372"
        ]
       ],
       "shape": {
        "columns": 4,
        "rows": 5
       }
      },
      "text/html": [
       "<div>\n",
       "<style scoped>\n",
       "    .dataframe tbody tr th:only-of-type {\n",
       "        vertical-align: middle;\n",
       "    }\n",
       "\n",
       "    .dataframe tbody tr th {\n",
       "        vertical-align: top;\n",
       "    }\n",
       "\n",
       "    .dataframe thead th {\n",
       "        text-align: right;\n",
       "    }\n",
       "</style>\n",
       "<table border=\"1\" class=\"dataframe\">\n",
       "  <thead>\n",
       "    <tr style=\"text-align: right;\">\n",
       "      <th></th>\n",
       "      <th>factor</th>\n",
       "      <th>risk_premium</th>\n",
       "      <th>t_stat</th>\n",
       "      <th>t_stat_NW</th>\n",
       "    </tr>\n",
       "  </thead>\n",
       "  <tbody>\n",
       "    <tr>\n",
       "      <th>0</th>\n",
       "      <td>CMKT</td>\n",
       "      <td>0.818</td>\n",
       "      <td>5.712</td>\n",
       "      <td>5.648</td>\n",
       "    </tr>\n",
       "    <tr>\n",
       "      <th>1</th>\n",
       "      <td>CMOM</td>\n",
       "      <td>-0.002</td>\n",
       "      <td>-0.029</td>\n",
       "      <td>-0.027</td>\n",
       "    </tr>\n",
       "    <tr>\n",
       "      <th>2</th>\n",
       "      <td>CSIZE</td>\n",
       "      <td>0.266</td>\n",
       "      <td>3.219</td>\n",
       "      <td>2.400</td>\n",
       "    </tr>\n",
       "    <tr>\n",
       "      <th>3</th>\n",
       "      <td>DOM</td>\n",
       "      <td>-0.027</td>\n",
       "      <td>-0.184</td>\n",
       "      <td>-0.189</td>\n",
       "    </tr>\n",
       "    <tr>\n",
       "      <th>4</th>\n",
       "      <td>Intercept</td>\n",
       "      <td>3.745</td>\n",
       "      <td>3.253</td>\n",
       "      <td>2.372</td>\n",
       "    </tr>\n",
       "  </tbody>\n",
       "</table>\n",
       "</div>"
      ],
      "text/plain": [
       "      factor  risk_premium  t_stat  t_stat_NW\n",
       "0       CMKT         0.818   5.712      5.648\n",
       "1       CMOM        -0.002  -0.029     -0.027\n",
       "2      CSIZE         0.266   3.219      2.400\n",
       "3        DOM        -0.027  -0.184     -0.189\n",
       "4  Intercept         3.745   3.253      2.372"
      ]
     },
     "metadata": {},
     "output_type": "display_data"
    },
    {
     "name": "stdout",
     "output_type": "stream",
     "text": [
      "Fama McBeth non-stablecoin True vol_inter_full_len_share\n"
     ]
    },
    {
     "data": {
      "application/vnd.microsoft.datawrangler.viewer.v0+json": {
       "columns": [
        {
         "name": "index",
         "rawType": "int64",
         "type": "integer"
        },
        {
         "name": "factor",
         "rawType": "object",
         "type": "string"
        },
        {
         "name": "risk_premium",
         "rawType": "float64",
         "type": "float"
        },
        {
         "name": "t_stat",
         "rawType": "float64",
         "type": "float"
        },
        {
         "name": "t_stat_NW",
         "rawType": "float64",
         "type": "float"
        }
       ],
       "conversionMethod": "pd.DataFrame",
       "ref": "7a59cf42-f151-4c5e-8ad4-02320a2e8e08",
       "rows": [
        [
         "0",
         "CMKT",
         "0.824",
         "5.725",
         "5.638"
        ],
        [
         "1",
         "CMOM",
         "-0.0",
         "-0.005",
         "-0.005"
        ],
        [
         "2",
         "CSIZE",
         "0.265",
         "3.197",
         "2.374"
        ],
        [
         "3",
         "DOM",
         "-0.177",
         "-1.153",
         "-1.31"
        ],
        [
         "4",
         "Intercept",
         "3.684",
         "3.202",
         "2.356"
        ]
       ],
       "shape": {
        "columns": 4,
        "rows": 5
       }
      },
      "text/html": [
       "<div>\n",
       "<style scoped>\n",
       "    .dataframe tbody tr th:only-of-type {\n",
       "        vertical-align: middle;\n",
       "    }\n",
       "\n",
       "    .dataframe tbody tr th {\n",
       "        vertical-align: top;\n",
       "    }\n",
       "\n",
       "    .dataframe thead th {\n",
       "        text-align: right;\n",
       "    }\n",
       "</style>\n",
       "<table border=\"1\" class=\"dataframe\">\n",
       "  <thead>\n",
       "    <tr style=\"text-align: right;\">\n",
       "      <th></th>\n",
       "      <th>factor</th>\n",
       "      <th>risk_premium</th>\n",
       "      <th>t_stat</th>\n",
       "      <th>t_stat_NW</th>\n",
       "    </tr>\n",
       "  </thead>\n",
       "  <tbody>\n",
       "    <tr>\n",
       "      <th>0</th>\n",
       "      <td>CMKT</td>\n",
       "      <td>0.824</td>\n",
       "      <td>5.725</td>\n",
       "      <td>5.638</td>\n",
       "    </tr>\n",
       "    <tr>\n",
       "      <th>1</th>\n",
       "      <td>CMOM</td>\n",
       "      <td>-0.000</td>\n",
       "      <td>-0.005</td>\n",
       "      <td>-0.005</td>\n",
       "    </tr>\n",
       "    <tr>\n",
       "      <th>2</th>\n",
       "      <td>CSIZE</td>\n",
       "      <td>0.265</td>\n",
       "      <td>3.197</td>\n",
       "      <td>2.374</td>\n",
       "    </tr>\n",
       "    <tr>\n",
       "      <th>3</th>\n",
       "      <td>DOM</td>\n",
       "      <td>-0.177</td>\n",
       "      <td>-1.153</td>\n",
       "      <td>-1.310</td>\n",
       "    </tr>\n",
       "    <tr>\n",
       "      <th>4</th>\n",
       "      <td>Intercept</td>\n",
       "      <td>3.684</td>\n",
       "      <td>3.202</td>\n",
       "      <td>2.356</td>\n",
       "    </tr>\n",
       "  </tbody>\n",
       "</table>\n",
       "</div>"
      ],
      "text/plain": [
       "      factor  risk_premium  t_stat  t_stat_NW\n",
       "0       CMKT         0.824   5.725      5.638\n",
       "1       CMOM        -0.000  -0.005     -0.005\n",
       "2      CSIZE         0.265   3.197      2.374\n",
       "3        DOM        -0.177  -1.153     -1.310\n",
       "4  Intercept         3.684   3.202      2.356"
      ]
     },
     "metadata": {},
     "output_type": "display_data"
    },
    {
     "name": "stdout",
     "output_type": "stream",
     "text": [
      "Fama McBeth non-stablecoin True betweenness_centrality_volume\n"
     ]
    },
    {
     "data": {
      "application/vnd.microsoft.datawrangler.viewer.v0+json": {
       "columns": [
        {
         "name": "index",
         "rawType": "int64",
         "type": "integer"
        },
        {
         "name": "factor",
         "rawType": "object",
         "type": "string"
        },
        {
         "name": "risk_premium",
         "rawType": "float64",
         "type": "float"
        },
        {
         "name": "t_stat",
         "rawType": "float64",
         "type": "float"
        },
        {
         "name": "t_stat_NW",
         "rawType": "float64",
         "type": "float"
        }
       ],
       "conversionMethod": "pd.DataFrame",
       "ref": "12897b41-ff9e-4b83-8e2c-cca910be38ba",
       "rows": [
        [
         "0",
         "CMKT",
         "0.824",
         "5.725",
         "5.638"
        ],
        [
         "1",
         "CMOM",
         "-0.0",
         "-0.005",
         "-0.005"
        ],
        [
         "2",
         "CSIZE",
         "0.265",
         "3.197",
         "2.374"
        ],
        [
         "3",
         "DOM",
         "-0.177",
         "-1.153",
         "-1.31"
        ],
        [
         "4",
         "Intercept",
         "3.684",
         "3.202",
         "2.356"
        ]
       ],
       "shape": {
        "columns": 4,
        "rows": 5
       }
      },
      "text/html": [
       "<div>\n",
       "<style scoped>\n",
       "    .dataframe tbody tr th:only-of-type {\n",
       "        vertical-align: middle;\n",
       "    }\n",
       "\n",
       "    .dataframe tbody tr th {\n",
       "        vertical-align: top;\n",
       "    }\n",
       "\n",
       "    .dataframe thead th {\n",
       "        text-align: right;\n",
       "    }\n",
       "</style>\n",
       "<table border=\"1\" class=\"dataframe\">\n",
       "  <thead>\n",
       "    <tr style=\"text-align: right;\">\n",
       "      <th></th>\n",
       "      <th>factor</th>\n",
       "      <th>risk_premium</th>\n",
       "      <th>t_stat</th>\n",
       "      <th>t_stat_NW</th>\n",
       "    </tr>\n",
       "  </thead>\n",
       "  <tbody>\n",
       "    <tr>\n",
       "      <th>0</th>\n",
       "      <td>CMKT</td>\n",
       "      <td>0.824</td>\n",
       "      <td>5.725</td>\n",
       "      <td>5.638</td>\n",
       "    </tr>\n",
       "    <tr>\n",
       "      <th>1</th>\n",
       "      <td>CMOM</td>\n",
       "      <td>-0.000</td>\n",
       "      <td>-0.005</td>\n",
       "      <td>-0.005</td>\n",
       "    </tr>\n",
       "    <tr>\n",
       "      <th>2</th>\n",
       "      <td>CSIZE</td>\n",
       "      <td>0.265</td>\n",
       "      <td>3.197</td>\n",
       "      <td>2.374</td>\n",
       "    </tr>\n",
       "    <tr>\n",
       "      <th>3</th>\n",
       "      <td>DOM</td>\n",
       "      <td>-0.177</td>\n",
       "      <td>-1.153</td>\n",
       "      <td>-1.310</td>\n",
       "    </tr>\n",
       "    <tr>\n",
       "      <th>4</th>\n",
       "      <td>Intercept</td>\n",
       "      <td>3.684</td>\n",
       "      <td>3.202</td>\n",
       "      <td>2.356</td>\n",
       "    </tr>\n",
       "  </tbody>\n",
       "</table>\n",
       "</div>"
      ],
      "text/plain": [
       "      factor  risk_premium  t_stat  t_stat_NW\n",
       "0       CMKT         0.824   5.725      5.638\n",
       "1       CMOM        -0.000  -0.005     -0.005\n",
       "2      CSIZE         0.265   3.197      2.374\n",
       "3        DOM        -0.177  -1.153     -1.310\n",
       "4  Intercept         3.684   3.202      2.356"
      ]
     },
     "metadata": {},
     "output_type": "display_data"
    },
    {
     "name": "stdout",
     "output_type": "stream",
     "text": [
      "Fama McBeth non-stablecoin True betweenness_centrality_count\n"
     ]
    },
    {
     "data": {
      "application/vnd.microsoft.datawrangler.viewer.v0+json": {
       "columns": [
        {
         "name": "index",
         "rawType": "int64",
         "type": "integer"
        },
        {
         "name": "factor",
         "rawType": "object",
         "type": "string"
        },
        {
         "name": "risk_premium",
         "rawType": "float64",
         "type": "float"
        },
        {
         "name": "t_stat",
         "rawType": "float64",
         "type": "float"
        },
        {
         "name": "t_stat_NW",
         "rawType": "float64",
         "type": "float"
        }
       ],
       "conversionMethod": "pd.DataFrame",
       "ref": "8bcc576e-7d05-4bd0-9cae-e1fb969caf64",
       "rows": [
        [
         "0",
         "CMKT",
         "0.824",
         "5.725",
         "5.638"
        ],
        [
         "1",
         "CMOM",
         "-0.0",
         "-0.005",
         "-0.005"
        ],
        [
         "2",
         "CSIZE",
         "0.265",
         "3.197",
         "2.374"
        ],
        [
         "3",
         "DOM",
         "-0.177",
         "-1.153",
         "-1.31"
        ],
        [
         "4",
         "Intercept",
         "3.684",
         "3.202",
         "2.356"
        ]
       ],
       "shape": {
        "columns": 4,
        "rows": 5
       }
      },
      "text/html": [
       "<div>\n",
       "<style scoped>\n",
       "    .dataframe tbody tr th:only-of-type {\n",
       "        vertical-align: middle;\n",
       "    }\n",
       "\n",
       "    .dataframe tbody tr th {\n",
       "        vertical-align: top;\n",
       "    }\n",
       "\n",
       "    .dataframe thead th {\n",
       "        text-align: right;\n",
       "    }\n",
       "</style>\n",
       "<table border=\"1\" class=\"dataframe\">\n",
       "  <thead>\n",
       "    <tr style=\"text-align: right;\">\n",
       "      <th></th>\n",
       "      <th>factor</th>\n",
       "      <th>risk_premium</th>\n",
       "      <th>t_stat</th>\n",
       "      <th>t_stat_NW</th>\n",
       "    </tr>\n",
       "  </thead>\n",
       "  <tbody>\n",
       "    <tr>\n",
       "      <th>0</th>\n",
       "      <td>CMKT</td>\n",
       "      <td>0.824</td>\n",
       "      <td>5.725</td>\n",
       "      <td>5.638</td>\n",
       "    </tr>\n",
       "    <tr>\n",
       "      <th>1</th>\n",
       "      <td>CMOM</td>\n",
       "      <td>-0.000</td>\n",
       "      <td>-0.005</td>\n",
       "      <td>-0.005</td>\n",
       "    </tr>\n",
       "    <tr>\n",
       "      <th>2</th>\n",
       "      <td>CSIZE</td>\n",
       "      <td>0.265</td>\n",
       "      <td>3.197</td>\n",
       "      <td>2.374</td>\n",
       "    </tr>\n",
       "    <tr>\n",
       "      <th>3</th>\n",
       "      <td>DOM</td>\n",
       "      <td>-0.177</td>\n",
       "      <td>-1.153</td>\n",
       "      <td>-1.310</td>\n",
       "    </tr>\n",
       "    <tr>\n",
       "      <th>4</th>\n",
       "      <td>Intercept</td>\n",
       "      <td>3.684</td>\n",
       "      <td>3.202</td>\n",
       "      <td>2.356</td>\n",
       "    </tr>\n",
       "  </tbody>\n",
       "</table>\n",
       "</div>"
      ],
      "text/plain": [
       "      factor  risk_premium  t_stat  t_stat_NW\n",
       "0       CMKT         0.824   5.725      5.638\n",
       "1       CMOM        -0.000  -0.005     -0.005\n",
       "2      CSIZE         0.265   3.197      2.374\n",
       "3        DOM        -0.177  -1.153     -1.310\n",
       "4  Intercept         3.684   3.202      2.356"
      ]
     },
     "metadata": {},
     "output_type": "display_data"
    },
    {
     "name": "stdout",
     "output_type": "stream",
     "text": [
      "Fama McBeth non-stablecoin True total_eigen_centrality_undirected\n"
     ]
    },
    {
     "data": {
      "application/vnd.microsoft.datawrangler.viewer.v0+json": {
       "columns": [
        {
         "name": "index",
         "rawType": "int64",
         "type": "integer"
        },
        {
         "name": "factor",
         "rawType": "object",
         "type": "string"
        },
        {
         "name": "risk_premium",
         "rawType": "float64",
         "type": "float"
        },
        {
         "name": "t_stat",
         "rawType": "float64",
         "type": "float"
        },
        {
         "name": "t_stat_NW",
         "rawType": "float64",
         "type": "float"
        }
       ],
       "conversionMethod": "pd.DataFrame",
       "ref": "7dc6fc4f-be1f-4d3e-92ec-9db2baacb262",
       "rows": [
        [
         "0",
         "CMKT",
         "0.818",
         "5.711",
         "5.648"
        ],
        [
         "1",
         "CMOM",
         "-0.002",
         "-0.023",
         "-0.022"
        ],
        [
         "2",
         "CSIZE",
         "0.266",
         "3.222",
         "2.4"
        ],
        [
         "3",
         "DOM",
         "-0.022",
         "-0.15",
         "-0.161"
        ],
        [
         "4",
         "Intercept",
         "3.749",
         "3.257",
         "2.373"
        ]
       ],
       "shape": {
        "columns": 4,
        "rows": 5
       }
      },
      "text/html": [
       "<div>\n",
       "<style scoped>\n",
       "    .dataframe tbody tr th:only-of-type {\n",
       "        vertical-align: middle;\n",
       "    }\n",
       "\n",
       "    .dataframe tbody tr th {\n",
       "        vertical-align: top;\n",
       "    }\n",
       "\n",
       "    .dataframe thead th {\n",
       "        text-align: right;\n",
       "    }\n",
       "</style>\n",
       "<table border=\"1\" class=\"dataframe\">\n",
       "  <thead>\n",
       "    <tr style=\"text-align: right;\">\n",
       "      <th></th>\n",
       "      <th>factor</th>\n",
       "      <th>risk_premium</th>\n",
       "      <th>t_stat</th>\n",
       "      <th>t_stat_NW</th>\n",
       "    </tr>\n",
       "  </thead>\n",
       "  <tbody>\n",
       "    <tr>\n",
       "      <th>0</th>\n",
       "      <td>CMKT</td>\n",
       "      <td>0.818</td>\n",
       "      <td>5.711</td>\n",
       "      <td>5.648</td>\n",
       "    </tr>\n",
       "    <tr>\n",
       "      <th>1</th>\n",
       "      <td>CMOM</td>\n",
       "      <td>-0.002</td>\n",
       "      <td>-0.023</td>\n",
       "      <td>-0.022</td>\n",
       "    </tr>\n",
       "    <tr>\n",
       "      <th>2</th>\n",
       "      <td>CSIZE</td>\n",
       "      <td>0.266</td>\n",
       "      <td>3.222</td>\n",
       "      <td>2.400</td>\n",
       "    </tr>\n",
       "    <tr>\n",
       "      <th>3</th>\n",
       "      <td>DOM</td>\n",
       "      <td>-0.022</td>\n",
       "      <td>-0.150</td>\n",
       "      <td>-0.161</td>\n",
       "    </tr>\n",
       "    <tr>\n",
       "      <th>4</th>\n",
       "      <td>Intercept</td>\n",
       "      <td>3.749</td>\n",
       "      <td>3.257</td>\n",
       "      <td>2.373</td>\n",
       "    </tr>\n",
       "  </tbody>\n",
       "</table>\n",
       "</div>"
      ],
      "text/plain": [
       "      factor  risk_premium  t_stat  t_stat_NW\n",
       "0       CMKT         0.818   5.711      5.648\n",
       "1       CMOM        -0.002  -0.023     -0.022\n",
       "2      CSIZE         0.266   3.222      2.400\n",
       "3        DOM        -0.022  -0.150     -0.161\n",
       "4  Intercept         3.749   3.257      2.373"
      ]
     },
     "metadata": {},
     "output_type": "display_data"
    },
    {
     "name": "stdout",
     "output_type": "stream",
     "text": [
      "Fama McBeth non-stablecoin True Volume_share\n"
     ]
    },
    {
     "data": {
      "application/vnd.microsoft.datawrangler.viewer.v0+json": {
       "columns": [
        {
         "name": "index",
         "rawType": "int64",
         "type": "integer"
        },
        {
         "name": "factor",
         "rawType": "object",
         "type": "string"
        },
        {
         "name": "risk_premium",
         "rawType": "float64",
         "type": "float"
        },
        {
         "name": "t_stat",
         "rawType": "float64",
         "type": "float"
        },
        {
         "name": "t_stat_NW",
         "rawType": "float64",
         "type": "float"
        }
       ],
       "conversionMethod": "pd.DataFrame",
       "ref": "46cf5ab9-bb48-40d5-bf1b-b6f8f4697b96",
       "rows": [
        [
         "0",
         "CMKT",
         "0.817",
         "5.708",
         "5.64"
        ],
        [
         "1",
         "CMOM",
         "-0.002",
         "-0.027",
         "-0.025"
        ],
        [
         "2",
         "CSIZE",
         "0.265",
         "3.215",
         "2.395"
        ],
        [
         "3",
         "DOM",
         "-0.046",
         "-0.31",
         "-0.323"
        ],
        [
         "4",
         "Intercept",
         "3.74",
         "3.249",
         "2.37"
        ]
       ],
       "shape": {
        "columns": 4,
        "rows": 5
       }
      },
      "text/html": [
       "<div>\n",
       "<style scoped>\n",
       "    .dataframe tbody tr th:only-of-type {\n",
       "        vertical-align: middle;\n",
       "    }\n",
       "\n",
       "    .dataframe tbody tr th {\n",
       "        vertical-align: top;\n",
       "    }\n",
       "\n",
       "    .dataframe thead th {\n",
       "        text-align: right;\n",
       "    }\n",
       "</style>\n",
       "<table border=\"1\" class=\"dataframe\">\n",
       "  <thead>\n",
       "    <tr style=\"text-align: right;\">\n",
       "      <th></th>\n",
       "      <th>factor</th>\n",
       "      <th>risk_premium</th>\n",
       "      <th>t_stat</th>\n",
       "      <th>t_stat_NW</th>\n",
       "    </tr>\n",
       "  </thead>\n",
       "  <tbody>\n",
       "    <tr>\n",
       "      <th>0</th>\n",
       "      <td>CMKT</td>\n",
       "      <td>0.817</td>\n",
       "      <td>5.708</td>\n",
       "      <td>5.640</td>\n",
       "    </tr>\n",
       "    <tr>\n",
       "      <th>1</th>\n",
       "      <td>CMOM</td>\n",
       "      <td>-0.002</td>\n",
       "      <td>-0.027</td>\n",
       "      <td>-0.025</td>\n",
       "    </tr>\n",
       "    <tr>\n",
       "      <th>2</th>\n",
       "      <td>CSIZE</td>\n",
       "      <td>0.265</td>\n",
       "      <td>3.215</td>\n",
       "      <td>2.395</td>\n",
       "    </tr>\n",
       "    <tr>\n",
       "      <th>3</th>\n",
       "      <td>DOM</td>\n",
       "      <td>-0.046</td>\n",
       "      <td>-0.310</td>\n",
       "      <td>-0.323</td>\n",
       "    </tr>\n",
       "    <tr>\n",
       "      <th>4</th>\n",
       "      <td>Intercept</td>\n",
       "      <td>3.740</td>\n",
       "      <td>3.249</td>\n",
       "      <td>2.370</td>\n",
       "    </tr>\n",
       "  </tbody>\n",
       "</table>\n",
       "</div>"
      ],
      "text/plain": [
       "      factor  risk_premium  t_stat  t_stat_NW\n",
       "0       CMKT         0.817   5.708      5.640\n",
       "1       CMOM        -0.002  -0.027     -0.025\n",
       "2      CSIZE         0.265   3.215      2.395\n",
       "3        DOM        -0.046  -0.310     -0.323\n",
       "4  Intercept         3.740   3.249      2.370"
      ]
     },
     "metadata": {},
     "output_type": "display_data"
    },
    {
     "name": "stdout",
     "output_type": "stream",
     "text": [
      "Fama McBeth non-stablecoin True Inflow_centrality\n"
     ]
    },
    {
     "data": {
      "application/vnd.microsoft.datawrangler.viewer.v0+json": {
       "columns": [
        {
         "name": "index",
         "rawType": "int64",
         "type": "integer"
        },
        {
         "name": "factor",
         "rawType": "object",
         "type": "string"
        },
        {
         "name": "risk_premium",
         "rawType": "float64",
         "type": "float"
        },
        {
         "name": "t_stat",
         "rawType": "float64",
         "type": "float"
        },
        {
         "name": "t_stat_NW",
         "rawType": "float64",
         "type": "float"
        }
       ],
       "conversionMethod": "pd.DataFrame",
       "ref": "96e22656-938e-4cc4-908f-e5b5908a1819",
       "rows": [
        [
         "0",
         "CMKT",
         "0.824",
         "5.722",
         "5.666"
        ],
        [
         "1",
         "CMOM",
         "0.001",
         "0.007",
         "0.006"
        ],
        [
         "2",
         "CSIZE",
         "0.27",
         "3.248",
         "2.413"
        ],
        [
         "3",
         "DOM",
         "0.087",
         "0.663",
         "0.696"
        ],
        [
         "4",
         "Intercept",
         "3.702",
         "3.2",
         "2.342"
        ]
       ],
       "shape": {
        "columns": 4,
        "rows": 5
       }
      },
      "text/html": [
       "<div>\n",
       "<style scoped>\n",
       "    .dataframe tbody tr th:only-of-type {\n",
       "        vertical-align: middle;\n",
       "    }\n",
       "\n",
       "    .dataframe tbody tr th {\n",
       "        vertical-align: top;\n",
       "    }\n",
       "\n",
       "    .dataframe thead th {\n",
       "        text-align: right;\n",
       "    }\n",
       "</style>\n",
       "<table border=\"1\" class=\"dataframe\">\n",
       "  <thead>\n",
       "    <tr style=\"text-align: right;\">\n",
       "      <th></th>\n",
       "      <th>factor</th>\n",
       "      <th>risk_premium</th>\n",
       "      <th>t_stat</th>\n",
       "      <th>t_stat_NW</th>\n",
       "    </tr>\n",
       "  </thead>\n",
       "  <tbody>\n",
       "    <tr>\n",
       "      <th>0</th>\n",
       "      <td>CMKT</td>\n",
       "      <td>0.824</td>\n",
       "      <td>5.722</td>\n",
       "      <td>5.666</td>\n",
       "    </tr>\n",
       "    <tr>\n",
       "      <th>1</th>\n",
       "      <td>CMOM</td>\n",
       "      <td>0.001</td>\n",
       "      <td>0.007</td>\n",
       "      <td>0.006</td>\n",
       "    </tr>\n",
       "    <tr>\n",
       "      <th>2</th>\n",
       "      <td>CSIZE</td>\n",
       "      <td>0.270</td>\n",
       "      <td>3.248</td>\n",
       "      <td>2.413</td>\n",
       "    </tr>\n",
       "    <tr>\n",
       "      <th>3</th>\n",
       "      <td>DOM</td>\n",
       "      <td>0.087</td>\n",
       "      <td>0.663</td>\n",
       "      <td>0.696</td>\n",
       "    </tr>\n",
       "    <tr>\n",
       "      <th>4</th>\n",
       "      <td>Intercept</td>\n",
       "      <td>3.702</td>\n",
       "      <td>3.200</td>\n",
       "      <td>2.342</td>\n",
       "    </tr>\n",
       "  </tbody>\n",
       "</table>\n",
       "</div>"
      ],
      "text/plain": [
       "      factor  risk_premium  t_stat  t_stat_NW\n",
       "0       CMKT         0.824   5.722      5.666\n",
       "1       CMOM         0.001   0.007      0.006\n",
       "2      CSIZE         0.270   3.248      2.413\n",
       "3        DOM         0.087   0.663      0.696\n",
       "4  Intercept         3.702   3.200      2.342"
      ]
     },
     "metadata": {},
     "output_type": "display_data"
    },
    {
     "name": "stdout",
     "output_type": "stream",
     "text": [
      "Fama McBeth non-stablecoin True Outflow_centrality\n"
     ]
    },
    {
     "data": {
      "application/vnd.microsoft.datawrangler.viewer.v0+json": {
       "columns": [
        {
         "name": "index",
         "rawType": "int64",
         "type": "integer"
        },
        {
         "name": "factor",
         "rawType": "object",
         "type": "string"
        },
        {
         "name": "risk_premium",
         "rawType": "float64",
         "type": "float"
        },
        {
         "name": "t_stat",
         "rawType": "float64",
         "type": "float"
        },
        {
         "name": "t_stat_NW",
         "rawType": "float64",
         "type": "float"
        }
       ],
       "conversionMethod": "pd.DataFrame",
       "ref": "e094acf0-a3c6-413f-b715-241e7447be3c",
       "rows": [
        [
         "0",
         "CMKT",
         "0.824",
         "5.723",
         "5.666"
        ],
        [
         "1",
         "CMOM",
         "0.001",
         "0.007",
         "0.006"
        ],
        [
         "2",
         "CSIZE",
         "0.27",
         "3.247",
         "2.413"
        ],
        [
         "3",
         "DOM",
         "0.087",
         "0.664",
         "0.698"
        ],
        [
         "4",
         "Intercept",
         "3.702",
         "3.2",
         "2.342"
        ]
       ],
       "shape": {
        "columns": 4,
        "rows": 5
       }
      },
      "text/html": [
       "<div>\n",
       "<style scoped>\n",
       "    .dataframe tbody tr th:only-of-type {\n",
       "        vertical-align: middle;\n",
       "    }\n",
       "\n",
       "    .dataframe tbody tr th {\n",
       "        vertical-align: top;\n",
       "    }\n",
       "\n",
       "    .dataframe thead th {\n",
       "        text-align: right;\n",
       "    }\n",
       "</style>\n",
       "<table border=\"1\" class=\"dataframe\">\n",
       "  <thead>\n",
       "    <tr style=\"text-align: right;\">\n",
       "      <th></th>\n",
       "      <th>factor</th>\n",
       "      <th>risk_premium</th>\n",
       "      <th>t_stat</th>\n",
       "      <th>t_stat_NW</th>\n",
       "    </tr>\n",
       "  </thead>\n",
       "  <tbody>\n",
       "    <tr>\n",
       "      <th>0</th>\n",
       "      <td>CMKT</td>\n",
       "      <td>0.824</td>\n",
       "      <td>5.723</td>\n",
       "      <td>5.666</td>\n",
       "    </tr>\n",
       "    <tr>\n",
       "      <th>1</th>\n",
       "      <td>CMOM</td>\n",
       "      <td>0.001</td>\n",
       "      <td>0.007</td>\n",
       "      <td>0.006</td>\n",
       "    </tr>\n",
       "    <tr>\n",
       "      <th>2</th>\n",
       "      <td>CSIZE</td>\n",
       "      <td>0.270</td>\n",
       "      <td>3.247</td>\n",
       "      <td>2.413</td>\n",
       "    </tr>\n",
       "    <tr>\n",
       "      <th>3</th>\n",
       "      <td>DOM</td>\n",
       "      <td>0.087</td>\n",
       "      <td>0.664</td>\n",
       "      <td>0.698</td>\n",
       "    </tr>\n",
       "    <tr>\n",
       "      <th>4</th>\n",
       "      <td>Intercept</td>\n",
       "      <td>3.702</td>\n",
       "      <td>3.200</td>\n",
       "      <td>2.342</td>\n",
       "    </tr>\n",
       "  </tbody>\n",
       "</table>\n",
       "</div>"
      ],
      "text/plain": [
       "      factor  risk_premium  t_stat  t_stat_NW\n",
       "0       CMKT         0.824   5.723      5.666\n",
       "1       CMOM         0.001   0.007      0.006\n",
       "2      CSIZE         0.270   3.247      2.413\n",
       "3        DOM         0.087   0.664      0.698\n",
       "4  Intercept         3.702   3.200      2.342"
      ]
     },
     "metadata": {},
     "output_type": "display_data"
    },
    {
     "name": "stdout",
     "output_type": "stream",
     "text": [
      "Fama McBeth non-stablecoin True TVL_share\n"
     ]
    },
    {
     "data": {
      "application/vnd.microsoft.datawrangler.viewer.v0+json": {
       "columns": [
        {
         "name": "index",
         "rawType": "int64",
         "type": "integer"
        },
        {
         "name": "factor",
         "rawType": "object",
         "type": "string"
        },
        {
         "name": "risk_premium",
         "rawType": "float64",
         "type": "float"
        },
        {
         "name": "t_stat",
         "rawType": "float64",
         "type": "float"
        },
        {
         "name": "t_stat_NW",
         "rawType": "float64",
         "type": "float"
        }
       ],
       "conversionMethod": "pd.DataFrame",
       "ref": "db738dbb-2420-4f93-8c7d-060a35da7479",
       "rows": [
        [
         "0",
         "CMKT",
         "0.816",
         "5.693",
         "5.624"
        ],
        [
         "1",
         "CMOM",
         "-0.002",
         "-0.026",
         "-0.024"
        ],
        [
         "2",
         "CSIZE",
         "0.263",
         "3.195",
         "2.382"
        ],
        [
         "3",
         "DOM",
         "-0.103",
         "-0.673",
         "-0.701"
        ],
        [
         "4",
         "Intercept",
         "3.746",
         "3.259",
         "2.373"
        ]
       ],
       "shape": {
        "columns": 4,
        "rows": 5
       }
      },
      "text/html": [
       "<div>\n",
       "<style scoped>\n",
       "    .dataframe tbody tr th:only-of-type {\n",
       "        vertical-align: middle;\n",
       "    }\n",
       "\n",
       "    .dataframe tbody tr th {\n",
       "        vertical-align: top;\n",
       "    }\n",
       "\n",
       "    .dataframe thead th {\n",
       "        text-align: right;\n",
       "    }\n",
       "</style>\n",
       "<table border=\"1\" class=\"dataframe\">\n",
       "  <thead>\n",
       "    <tr style=\"text-align: right;\">\n",
       "      <th></th>\n",
       "      <th>factor</th>\n",
       "      <th>risk_premium</th>\n",
       "      <th>t_stat</th>\n",
       "      <th>t_stat_NW</th>\n",
       "    </tr>\n",
       "  </thead>\n",
       "  <tbody>\n",
       "    <tr>\n",
       "      <th>0</th>\n",
       "      <td>CMKT</td>\n",
       "      <td>0.816</td>\n",
       "      <td>5.693</td>\n",
       "      <td>5.624</td>\n",
       "    </tr>\n",
       "    <tr>\n",
       "      <th>1</th>\n",
       "      <td>CMOM</td>\n",
       "      <td>-0.002</td>\n",
       "      <td>-0.026</td>\n",
       "      <td>-0.024</td>\n",
       "    </tr>\n",
       "    <tr>\n",
       "      <th>2</th>\n",
       "      <td>CSIZE</td>\n",
       "      <td>0.263</td>\n",
       "      <td>3.195</td>\n",
       "      <td>2.382</td>\n",
       "    </tr>\n",
       "    <tr>\n",
       "      <th>3</th>\n",
       "      <td>DOM</td>\n",
       "      <td>-0.103</td>\n",
       "      <td>-0.673</td>\n",
       "      <td>-0.701</td>\n",
       "    </tr>\n",
       "    <tr>\n",
       "      <th>4</th>\n",
       "      <td>Intercept</td>\n",
       "      <td>3.746</td>\n",
       "      <td>3.259</td>\n",
       "      <td>2.373</td>\n",
       "    </tr>\n",
       "  </tbody>\n",
       "</table>\n",
       "</div>"
      ],
      "text/plain": [
       "      factor  risk_premium  t_stat  t_stat_NW\n",
       "0       CMKT         0.816   5.693      5.624\n",
       "1       CMOM        -0.002  -0.026     -0.024\n",
       "2      CSIZE         0.263   3.195      2.382\n",
       "3        DOM        -0.103  -0.673     -0.701\n",
       "4  Intercept         3.746   3.259      2.373"
      ]
     },
     "metadata": {},
     "output_type": "display_data"
    }
   ],
   "source": [
    "# load factors\n",
    "ff3 = pd.read_csv(PROCESSED_DATA_PATH/\"FF3.csv\") \n",
    "ltw3 = pd.read_csv(PROCESSED_DATA_PATH/\"LTW3.csv\")\n",
    "\n",
    "# load the regression panel dataset\n",
    "reg_panel = pd.read_pickle(\n",
    "    PROCESSED_DATA_PATH / \"panel_main.pickle.zip\", compression=\"zip\"\n",
    ")\n",
    "\n",
    "reg_panel[\"daily_supply_return\"] = reg_panel[\"supply_rates\"] / 365.2425\n",
    "\n",
    "\n",
    "def get_weekly_panel(reg_panel):\n",
    "    ### Get test assets returns \n",
    "    reg_panel['Date'] = pd.to_datetime(reg_panel['Date'])\n",
    "    reg_panel['Year'] = reg_panel['Date'].dt.year\n",
    "    reg_panel['Week'] = reg_panel['Date'].dt.isocalendar().week\n",
    "\n",
    "    # add daily simple returns and convenience yield\n",
    "    reg_panel = calculate_period_return(df_panel=reg_panel, freq=1, simple_dollar_ret=False)\n",
    "\n",
    "    # Change into weekly returns\n",
    "    reg_panel = calculate_weekly_returns(df_panel=reg_panel)\n",
    "\n",
    "    reg_panel['weekly_dollar_ret'] = reg_panel.groupby(['Year', 'Week'])['weekly_dollar_ret'].transform(\n",
    "            lambda x: x.clip(lower=x.quantile(0.01), upper=x.quantile(0.99))\n",
    "    )\n",
    "    return reg_panel\n",
    "    \n",
    "# stable non-stable info dict\n",
    "stable_nonstable_info = {\n",
    "    \"stablecoin\": reg_panel[reg_panel[\"Token\"].isin(STABLE_DICT.keys())],\n",
    "    \"non-stablecoin\": reg_panel[~reg_panel[\"Token\"].isin(STABLE_DICT.keys())],\n",
    "    # \"all\": reg_panel,\n",
    "}\n",
    "\n",
    "for panel_info, df_panel in stable_nonstable_info.items():\n",
    "    for simple_dollar_ret in [True]:\n",
    "        for dominance in DEPENDENT_VARIABLES + ['Inflow_centrality', 'Outflow_centrality', 'TVL_share']: \n",
    "            print(f\"Fama McBeth {panel_info} {simple_dollar_ret} {dominance}\")\n",
    "            dominance_factor = build_dominance_factor(\n",
    "                    reg_panel=df_panel,\n",
    "                    brk_pt_lst=[0.8],\n",
    "                    dominance_var=dominance,\n",
    "                    zero_value_portfolio=False,\n",
    "                    simple_dollar_ret=simple_dollar_ret,\n",
    "                )\n",
    "            dominance_factor.drop(['P1', 'P2'], axis=1, inplace=True)\n",
    "            dominance_factor.rename(columns={\"P2 - P1\": \"DOM\"}, inplace=True)\n",
    "\n",
    "            assets_panel = get_weekly_panel(df_panel)\n",
    "            # merge all factors\n",
    "            data_fama_macbeth = pd.merge(dominance_factor, ff3, on=['Year', 'Week'], how=\"left\")\n",
    "            data_fama_macbeth = pd.merge(data_fama_macbeth, ltw3, on=['Year', 'Week'], how=\"left\")\n",
    "            # merge factors with returns\n",
    "            data_fama_macbeth = pd.merge(data_fama_macbeth, assets_panel, on=['Year', 'Week'], how=\"left\")\n",
    "            data_fama_macbeth.rename(columns={\"weekly_dollar_ret\": \"dollar_ret\", \"weekly_ret\":\"convenience_ret\"}, inplace=True)\n",
    "            data_fama_macbeth = data_fama_macbeth.dropna()\n",
    "\n",
    "            # run the Fama-Macbeth regression\n",
    "            data_fama_macbeth['excess_ret'] = data_fama_macbeth['dollar_ret'] - data_fama_macbeth['RF']\n",
    "            fama_macbeth = reg_fama_macbeth(data_fama_macbeth, formula=\"excess_ret ~ CMKT + CMOM + CSIZE + DOM\")\n",
    "            display(fama_macbeth)\n"
   ]
  }
 ],
 "metadata": {
  "kernelspec": {
   "display_name": "venv",
   "language": "python",
   "name": "python3"
  },
  "language_info": {
   "codemirror_mode": {
    "name": "ipython",
    "version": 3
   },
   "file_extension": ".py",
   "mimetype": "text/x-python",
   "name": "python",
   "nbconvert_exporter": "python",
   "pygments_lexer": "ipython3",
   "version": "3.13.0"
  }
 },
 "nbformat": 4,
 "nbformat_minor": 2
}
