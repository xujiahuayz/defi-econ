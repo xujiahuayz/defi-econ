{
 "cells": [
  {
   "cell_type": "code",
   "execution_count": 2,
   "metadata": {},
   "outputs": [
    {
     "name": "stderr",
     "output_type": "stream",
     "text": [
      "C:\\Users\\chenb\\AppData\\Local\\Temp\\ipykernel_15408\\1894400079.py:41: FutureWarning: A value is trying to be set on a copy of a DataFrame or Series through chained assignment using an inplace method.\n",
      "The behavior will change in pandas 3.0. This inplace method will never work because the intermediate object on which we are setting values always behaves as a copy.\n",
      "\n",
      "For example, when doing 'df[col].method(value, inplace=True)', try using 'df.method({col: value}, inplace=True)' or df[col] = df[col].method(value) instead, to perform the operation inplace on the original object.\n",
      "\n",
      "\n",
      "  df_rf[\"RF\"].fillna(method=\"ffill\", inplace=True)\n",
      "C:\\Users\\chenb\\AppData\\Local\\Temp\\ipykernel_15408\\1894400079.py:41: FutureWarning: Series.fillna with 'method' is deprecated and will raise in a future version. Use obj.ffill() or obj.bfill() instead.\n",
      "  df_rf[\"RF\"].fillna(method=\"ffill\", inplace=True)\n"
     ]
    }
   ],
   "source": [
    "\"\"\"\n",
    "Script to fetch the risk-free rate from the Fama French library\n",
    "\"\"\"\n",
    "import ssl\n",
    "import pandas as pd\n",
    "from environ.constants import DATA_PATH\n",
    "\n",
    "FAMA_FRENCH_THREE_FACTORS_DAILY = (\n",
    "    \"https://mba.tuck.dartmouth.edu/pages/faculty/\"\n",
    "    + \"ken.french/ftp/F-F_Research_Data_Factors_weekly_CSV.zip\"\n",
    ")\n",
    "\n",
    "\n",
    "# Create an SSL context that ignores SSL certificate verification\n",
    "ssl._create_default_https_context = ssl._create_unverified_context\n",
    "\n",
    "# read the data and ignore the first and last three rows\n",
    "df_rf = pd.read_csv(\n",
    "    FAMA_FRENCH_THREE_FACTORS_DAILY,\n",
    "    skiprows=3,\n",
    "    skipfooter=3,\n",
    "    engine=\"python\",\n",
    ")\n",
    "\n",
    "# rename the columns\n",
    "df_rf.columns = [\"Date\", \"Mkt-RF\", \"SMB\", \"HML\", \"RF\"]\n",
    "\n",
    "# convert the date to datetime\n",
    "df_rf[\"Date\"] = pd.to_datetime(df_rf[\"Date\"], format=\"%Y%m%d\")\n",
    "\n",
    "# create a date range from the min to the max date\n",
    "date_range = pd.date_range(df_rf[\"Date\"].min(), df_rf[\"Date\"].max())\n",
    "\n",
    "# create a DataFrame with the date range\n",
    "df_date_range = pd.DataFrame({\"Date\": date_range})\n",
    "\n",
    "# merge the two DataFrames\n",
    "df_rf = pd.merge(df_date_range, df_rf, on=\"Date\", how=\"left\")\n",
    "\n",
    "# fill the missing values with the previous value\n",
    "df_rf[\"RF\"].fillna(method=\"ffill\", inplace=True)\n",
    "\n",
    "# save the DataFrame\n",
    "df_rf.to_csv(DATA_PATH / \"FF3.csv\", index=False)"
   ]
  },
  {
   "cell_type": "code",
   "execution_count": null,
   "metadata": {},
   "outputs": [],
   "source": []
  },
  {
   "cell_type": "code",
   "execution_count": null,
   "metadata": {},
   "outputs": [],
   "source": []
  }
 ],
 "metadata": {
  "kernelspec": {
   "display_name": "venv",
   "language": "python",
   "name": "python3"
  },
  "language_info": {
   "codemirror_mode": {
    "name": "ipython",
    "version": 3
   },
   "file_extension": ".py",
   "mimetype": "text/x-python",
   "name": "python",
   "nbconvert_exporter": "python",
   "pygments_lexer": "ipython3",
   "version": "3.12.6"
  }
 },
 "nbformat": 4,
 "nbformat_minor": 2
}
